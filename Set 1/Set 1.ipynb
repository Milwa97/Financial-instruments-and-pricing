{
 "cells": [
  {
   "cell_type": "code",
   "execution_count": 1,
   "metadata": {},
   "outputs": [],
   "source": [
    "import math"
   ]
  },
  {
   "cell_type": "markdown",
   "metadata": {},
   "source": [
    "## Financial Instruments and Pricing\n",
    "## Set 1: Time Value of Money\n"
   ]
  },
  {
   "cell_type": "markdown",
   "metadata": {},
   "source": [
    "## TASK 2:\n",
    "\n",
    "What time t (in years) is needed to double the principal sum on a bank deposit with interest $r$ [%] p.a. assuming:\n",
    "* a) no interest is added (capitalized) before the end of the deposit (simple interest)\n",
    "* b) interest is capitalized once a month, quarter, year, and in general n times a year (compound interest)\n",
    "* c) continuous compounding of interest\n",
    "\n",
    "Derive general formula. Compute t for r = 6% p.a.\n",
    "* $T$ - time in years needed to double the principal sum on a bank deposit with interest $r$ \n",
    "* $P$ - principal sum on a bank deposit \n",
    "* $n$ - number of capitalizations per year\n",
    "\n",
    "### a) simple interest:\n",
    "* initial $CF(0) = -P$\n",
    "* final $CF(T) = P + I = P (1 + r \\cdot T) $\n",
    "$$ CF(T) = 2\\cdot P $$\n",
    "$$ P (1 + r \\cdot T) = 2\\cdot P $$\n",
    "$$ (1 + r \\cdot T) = 2 $$\n",
    "$$ T = \\frac{1}{r}$$\n",
    "\n",
    "### b) compound interest: discrete capitalization of interest:\n",
    "* initial $CF(0) = -P$\n",
    "* final $CF(T) = P+I = P\\left(1+\\frac{r}{n} \\right)^{n\\cdot T}$\n",
    "\n",
    "$$ CF(T) = 2\\cdot P $$\n",
    "$$ P\\left(1+\\frac{r}{n} \\right)^{n\\cdot T} = 2P$$\n",
    "$$ \\left(1+\\frac{r}{n} \\right)^{n\\cdot T} = 2$$\n",
    "\n",
    "$$ T = \\frac{1}{n}\\log_{ \\left( 1+\\frac{r}{n} \\right)}2$$\n",
    "\n",
    "* yearly capitalization of interest (n = 1):  $T \\approx 11.896$ years = 4344 days\n",
    "\n",
    "* half-yearly capitalization of interest (n = 2):  $T \\approx 11.725$ years = 4282 days\n",
    "\n",
    "* quarterly capitalization of interest (n = 4): $T \\approx 11.639$ years = 4251 days\n",
    "\n",
    "* monthly capitalization of interest (n = 12): $T \\approx11.581$ years = 4230 days\n",
    "\n",
    "### c) compound interest: continuous capitalization of interest:\n",
    "* initial $CF(0) = -P$\n",
    "* final $CF(T) = P \\cdot e^{r\\cdot T}$\n",
    "\n",
    "$$ CF(T) = 2\\cdot P $$\n",
    "$$ P\\cdot e^{r\\cdot T} = 2P$$\n",
    "$$ T = \\frac{1}{r}\\ln2$$\n",
    "\n",
    "* continuous capitalization of interest: $T \\approx11.552$ years = 4219 days"
   ]
  },
  {
   "cell_type": "code",
   "execution_count": 2,
   "metadata": {
    "scrolled": true
   },
   "outputs": [
    {
     "name": "stdout",
     "output_type": "stream",
     "text": [
      "compound interest: discrete capitalization of interest:\n",
      "\n",
      "n = 1 \t T = 11.895661 years = 4344 days\n",
      "n = 2 \t T = 11.724886 years = 4282 days\n",
      "n = 4 \t T = 11.638881 years = 4251 days\n",
      "n = 12 \t T = 11.581310 years = 4230 days\n"
     ]
    }
   ],
   "source": [
    "r = 0.06\n",
    "print(\"compound interest: discrete capitalization of interest:\\n\")\n",
    "\n",
    "for n in [1,2,4,12]:\n",
    "    T = (1/n) * math.log(2,1+r/n)\n",
    "    print(\"n = {:} \\t T = {:f} years = {:} days\".format(n,T, int(T*365.25) ))"
   ]
  },
  {
   "cell_type": "code",
   "execution_count": 3,
   "metadata": {},
   "outputs": [
    {
     "name": "stdout",
     "output_type": "stream",
     "text": [
      "compound interest: continuous capitalization of interest: T = 11.552453 years = 4219 days\n"
     ]
    }
   ],
   "source": [
    "T = (1/r)*math.log(2)\n",
    "print(\"compound interest: continuous capitalization of interest: T = {:f} years = {:} days\".format(T, int(365.25*T) ))"
   ]
  },
  {
   "cell_type": "markdown",
   "metadata": {},
   "source": [
    "## TASK 3: \n",
    "\n",
    "What should be the nominal interest rate $r$ offered by a bank to ensure that savings of its clients rise at least as fast as the inflation rate i = 2.5% p.a. Assume yearly, half-yearly, quarterly, monthly, and continuous capitalization of interest.\n",
    "\n",
    "In each case the effective interest rate should be equal to $y = 2.5$ %\n",
    "\n",
    "### * discrete capitalization of interest:\n",
    "* initial CF(0) = $-P$\n",
    "* final CF(T) = $P+I$ = $P\\left(1+\\frac{r}{n} \\right)^{n\\cdot T}$\n",
    "$$\\sum_t \\frac{CF(t)}{\\left( 1+y \\right)^t }) = 0$$\n",
    "\n",
    "$$ CF(0) + \\frac{CF(T)}{ \\left(1+y \\right)^T} = 0$$\n",
    "\n",
    "$$-P + \\frac{ P\\left(1+\\frac{r}{n} \\right)^{n\\cdot T} }{\\left(1+y \\right)^T} = 0$$\n",
    "\n",
    "$$\\frac{ P\\left(1+\\frac{r}{n} \\right)^{n\\cdot T} }{\\left(1+y \\right)^T} = P$$\n",
    "\n",
    "$$ P\\left(1+\\frac{r}{n} \\right)^{n\\cdot T} = P\\cdot \\left(1+y \\right)^T$$\n",
    "\n",
    "$$ \\left(1+\\frac{r}{n} \\right)^n =  1+y $$\n",
    "\n",
    "explicite equation for effective interest rate:\n",
    "$$ y =\\left(1+\\frac{r}{n} \\right)^n -1 $$\n",
    "\n",
    "* yearly capitalization of interest (n = 1): $ r = y = 2.5\\% $\n",
    "$$ y =\\left(1+r \\right)-1 $$\n",
    "\n",
    "\n",
    "* half-yearly capitalization of interest: $ r = 2.48457 \\% $\n",
    "$$ y =\\left(1+\\frac{r}{2} \\right)^2 -1 $$\n",
    "\n",
    "\n",
    "* quarterly capitalization of interest: $ r = 2.4769\\% $\n",
    "$$ y =\\left(1+\\frac{r}{4} \\right)^4 -1 $$\n",
    "\n",
    "\n",
    "* monthly capitalization of interest: $ r = 2.4718\\% $\n",
    "$$ y =\\left(1+\\frac{r}{12} \\right)^{12} -1 $$\n",
    "\n",
    "\n",
    "### *  continuous capitalization of interest:\n",
    "* initial $ CF(0) = -P$\n",
    "* final: $CF(T) = P\\cdot e^{r\\cdot T}$\n",
    "$$\\sum_t \\frac{CF(t)}{\\left( 1+y \\right)^t }) = 0$$\n",
    "\n",
    "$$ CF(0) + \\frac{CF(T)}{ \\left(1+y \\right)^T} = 0$$\n",
    "\n",
    "$$-P + \\frac{P \\cdot e^{r\\cdot T}}{\\left(1+y \\right)^T} == 0$$\n",
    "$$ e^{r\\cdot T} = (1+y)^T$$\n",
    "$$ e^r = 1+y$$\n",
    "\n",
    "* continuous capitalization of interest: $ r = 2.46926\\% $\n",
    "\n"
   ]
  },
  {
   "cell_type": "markdown",
   "metadata": {},
   "source": [
    "## TASK 4 - sth wrong..... :\n",
    "\n",
    "Assume the annual effective interest rate (yield) y = [% / year]. What is the equivalent half-annual, monthly, weekly, daily, continuous effective interest rate (yield). Derive general formula and make computations for $y = 5\\%$ p.a.\n",
    "\n",
    "### * discrete capitalization of interest:\n",
    "* initial CF(0) = $-P$\n",
    "* final CF(T) = $P+I$ = $P\\left(1+\\frac{r}{n} \\right)^{n\\cdot T}$\n",
    "$$\\sum_t \\frac{CF(t)}{\\left( 1+y \\right)^t }) = 0$$\n",
    "\n",
    "$$ CF(0) + \\frac{CF(T)}{ \\left(1+y \\right)^T} = 0$$\n",
    "\n",
    "\n",
    "\n",
    "\n",
    "### Using the same formula as in task 3: (but most probably it is wrong...  \n",
    "explicite equation for effective interest rate:\n",
    "$$ y =\\left(1+\\frac{r}{n} \\right)^n -1 $$\n",
    "\n",
    "* yearly capitalization of interest (n = 1): $ r = y = 5.0\\% $\n",
    "$$ y =\\left(1+r \\right)-1 $$\n",
    "\n",
    "\n",
    "* half-yearly capitalization of interest: $ r = 4.93902 \\% $\n",
    "$$ y =\\left(1+\\frac{r}{2} \\right)^2 -1 $$\n",
    "\n",
    "\n",
    "* quarterly capitalization of interest: $ r = 4.90889\\% $\n",
    "$$ y =\\left(1+\\frac{r}{4} \\right)^4 -1 $$\n",
    "\n",
    "\n",
    "* monthly capitalization of interest: $ r = 4.88895\\% $\n",
    "$$ y =\\left(1+\\frac{r}{12} \\right)^{12} -1 $$\n",
    "\n",
    "### *  continuous capitalization of interest:\n",
    "* initial $ CF(0) = -P$\n",
    "* final: $CF(T) = P\\cdot e^{r\\cdot T}$\n",
    "$$\\sum_t \\frac{CF(t)}{\\left( 1+y \\right)^t }) = 0$$\n",
    "\n",
    "$$ CF(0) + \\frac{CF(T)}{ \\left(1+y \\right)^T} = 0$$\n",
    "\n",
    "$$-P + \\frac{P \\cdot e^{r\\cdot T}}{\\left(1+y \\right)^T} == 0$$\n",
    "$$ e^{r\\cdot T} = (1+y)^T$$\n",
    "$$ e^r = 1+y$$\n",
    "\n",
    "* continuous capitalization of interest: $ r = 4.87902 \\% $\n",
    "\n",
    "\n"
   ]
  },
  {
   "cell_type": "code",
   "execution_count": null,
   "metadata": {},
   "outputs": [],
   "source": []
  }
 ],
 "metadata": {
  "kernelspec": {
   "display_name": "Python 3",
   "language": "python",
   "name": "python3"
  },
  "language_info": {
   "codemirror_mode": {
    "name": "ipython",
    "version": 3
   },
   "file_extension": ".py",
   "mimetype": "text/x-python",
   "name": "python",
   "nbconvert_exporter": "python",
   "pygments_lexer": "ipython3",
   "version": "3.7.3"
  }
 },
 "nbformat": 4,
 "nbformat_minor": 2
}
