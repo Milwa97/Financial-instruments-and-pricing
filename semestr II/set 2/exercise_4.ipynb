{
 "cells": [
  {
   "cell_type": "markdown",
   "metadata": {},
   "source": [
    "## Exercise 1:\n",
    "\n",
    "Show that the Expected Shortfall of a continuous random variable X:\n",
    "$$ ES_\\alpha(X) \\equiv E(-X|X\\leq -VaR_\\alpha(X)) = -\\frac{1}{\\alpha}\\int _{-\\infty}^{-VaR_\\alpha(X)}xp(x)dx $$\n",
    "\n",
    "where $VaR_\\alpha(X)$ is the Value at Risk defined as:\n",
    "\n",
    "$$Pr(X\\leq -VaR_\\alpha(X)) = \\int_{-\\infty}^{-VaR\\alpha(X)}p(x)dx = \\alpha$$\n",
    "\n",
    "$\\alpha \\in (0,1)$ can be alternatively calculated as:\n",
    "\n",
    "$$ES_\\alpha(X) = \\frac{1}{\\alpha} \\int_0^{\\alpha}VaR_\\gamma(X)d\\gamma$$"
   ]
  },
  {
   "cell_type": "markdown",
   "metadata": {},
   "source": [
    "### Solution:\n",
    "(we asume here that p(x) is not a heavy-tail distribution, therefore its CDF exists)\n",
    "\n",
    "We take a partial derivative on both sides of the definition of $VaR_\\alpha$\n",
    "\n",
    "\n",
    "$$ \\frac{\\partial}{\\partial \\alpha}  \\int_{-\\infty}^{-VaR\\alpha(X)}p(x)dx =  \\frac{\\partial}{\\partial\\alpha} \\alpha$$\n",
    "\n",
    "$$  \\frac{\\partial (-VaR_\\alpha(X))}{\\partial \\alpha} \\frac{\\partial }{\\partial (-VaR_\\alpha(X))} \\int_{-\\infty}^{-VaR\\alpha(X)}p(x)dx\n",
    "= 1$$\n",
    "\n",
    "$$  \\frac{\\partial (-VaR_\\alpha(X))}{\\partial \\alpha}\\cdot p(-VaR_\\alpha(X) )\n",
    "= 1$$"
   ]
  },
  {
   "cell_type": "markdown",
   "metadata": {},
   "source": [
    "We want to prove that:\n",
    "\n",
    "$$ -\\int_{-\\infty}^{-VaR_\\alpha(X)}xp(x)dx = \\int_0^{\\alpha}VaR_\\gamma(X) d\\gamma $$\n",
    "\n",
    "We take a partial derivative of $\\alpha$ on both sides of the above:\n",
    "LHS:\n",
    "\n",
    "$$ -\\frac{\\partial (-VaR_\\alpha(X))}{\\partial \\alpha} \\frac{\\partial }{\\partial (-VaR_\\alpha(X))} \\int_{-\\infty}^{-VaR\\alpha(X)}x \\cdot p(x)dx \n",
    "= -\\frac{\\partial(-VaR_\\alpha(X))}{\\partial\\alpha}p(-VaR_\\alpha(X))\\cdot (-VaR_\\alpha(X)) \n",
    "=VaR_\\alpha(X)$$\n",
    "\n",
    "\n",
    "RHS:\n",
    "\n",
    "$$ \\frac{\\partial}{\\partial\\alpha} \\int_0^\\alpha VaR_\\gamma(X)d\\gamma = VaR\\alpha(X)$$\n",
    "\n",
    "So LHS and RHS, up to a constant, are equal."
   ]
  },
  {
   "cell_type": "markdown",
   "metadata": {},
   "source": [
    "To prove that LHS and RHS are equal, we check its behaviour for $\\alpha\\rightarrow 0$:\n",
    "\n",
    "$$\\lim_{\\alpha\\rightarrow 0}\\int_{-\\infty}^{-VaR_\\alpha(X)} p(x)dx = \\alpha \\rightarrow 0 $$\n",
    "\n",
    "$$\\lim_{\\alpha \\rightarrow 0} \\int_{0}^\\alpha  VaR_\\gamma(X)d\\gamma \\rightarrow 0  $$\n",
    "\n",
    "\n",
    "Moreover,\n",
    "\n",
    "$$ \\lim_{VaR_\\alpha \\rightarrow \\infty} \\int_{-\\infty}^{-VaR_\\alpha(X)} x\\cdot p(x)dx \\rightarrow 0$$\n",
    "\n",
    "So for $\\alpha \\rightarrow 0$ implies $VaR_\\alpha(X)\\rightarrow \\infty$ and vice versa ()"
   ]
  },
  {
   "cell_type": "markdown",
   "metadata": {},
   "source": [
    "## Exercise 4:\n",
    "\n",
    "\n",
    "Data  file datSt.txt contains a sample  of 1000 daily share  prices S(t) generated  for some geometric Brownian  motion process (log  rates  of return:\n",
    "$$ R(t)  =   ln \\left[ \\frac{S(t)}{S(0)}  \\right] $$\n",
    "are normally distributed).\n",
    "\n",
    "* Based  on  this  empirical  data  compute: (annualized) historical Volatility: $\\sigma \\sqrt{T}= \\sqrt{250}·sd$ (sd-  standard  deviation  of  dailylog rates of return and we assume a year $T$ has 250 business days) and (annualized) mean return $\\mu T = 250 <...>$ (where $<...>$ is the meandaily log rate of return)\n",
    "\n",
    "\n",
    "* Based on results of point (a) and Exercise 3 (i.e. using the Gaussian approximation (2)) compute daily $VaR_\\alpha(\\Delta S)$  and  $ES_\\alpha(\\Delta S)$ for $\\alpha= 0.01,0.05,0.10,0.20$. Assume you invest PLN 10 mln in the shares.\n",
    "\n",
    "\n",
    "* Based on results of point (a) and Exercise 3 (i.e.  using the Gaussian approximation (2)) compute weekly $VaR_\\alpha(\\Delta S)$  and  $ES_\\alpha(\\Delta S)$ for $\\alpha= 0.01,0.05,0.10,0.20$. Assume you invest PLN 10 mln in the shares.\n",
    "\n",
    "\n",
    "* Based on the empirical data compute daily $VaR_\\alpha(\\Delta S)$ and $ES_\\alpha(\\Delta S)$ for $\\alpha = 0.01,0.05,0.10,0.20$. Assume you invest PLN 10 mln in the shares \n",
    "\n",
    "##### Note:  compute empirical CDF:ˆP≤(x) =#sample elements≤xn(n-sample size) and then empiricalV aRα(X) =−inf{x:P≤(x)> α}and empiricalESα(X) (use formula (1))"
   ]
  },
  {
   "cell_type": "code",
   "execution_count": 1,
   "metadata": {},
   "outputs": [],
   "source": [
    "import pandas as pd\n",
    "import numpy as np\n",
    "import matplotlib.pyplot as plt\n",
    "import seaborn as sns; sns.set(style=\"white\", color_codes=True)\n",
    "sns.set(style=\"darkgrid\")\n",
    "\n",
    "from copy import copy\n",
    "\n",
    "PI = np.pi\n",
    "\n",
    "%matplotlib inline"
   ]
  },
  {
   "cell_type": "code",
   "execution_count": 2,
   "metadata": {
    "scrolled": true
   },
   "outputs": [
    {
     "data": {
      "text/html": [
       "<div>\n",
       "<style scoped>\n",
       "    .dataframe tbody tr th:only-of-type {\n",
       "        vertical-align: middle;\n",
       "    }\n",
       "\n",
       "    .dataframe tbody tr th {\n",
       "        vertical-align: top;\n",
       "    }\n",
       "\n",
       "    .dataframe thead th {\n",
       "        text-align: right;\n",
       "    }\n",
       "</style>\n",
       "<table border=\"1\" class=\"dataframe\">\n",
       "  <thead>\n",
       "    <tr style=\"text-align: right;\">\n",
       "      <th></th>\n",
       "      <th>S(t)</th>\n",
       "      <th>R(t)</th>\n",
       "      <th>daily_return</th>\n",
       "      <th>Delta_S</th>\n",
       "      <th>day</th>\n",
       "    </tr>\n",
       "  </thead>\n",
       "  <tbody>\n",
       "    <tr>\n",
       "      <td>0</td>\n",
       "      <td>100.00</td>\n",
       "      <td>0.000000</td>\n",
       "      <td>0.000000</td>\n",
       "      <td>0.00</td>\n",
       "      <td>0</td>\n",
       "    </tr>\n",
       "    <tr>\n",
       "      <td>1</td>\n",
       "      <td>101.30</td>\n",
       "      <td>0.012916</td>\n",
       "      <td>0.013000</td>\n",
       "      <td>1.30</td>\n",
       "      <td>1</td>\n",
       "    </tr>\n",
       "    <tr>\n",
       "      <td>2</td>\n",
       "      <td>103.05</td>\n",
       "      <td>0.017128</td>\n",
       "      <td>0.017275</td>\n",
       "      <td>1.75</td>\n",
       "      <td>2</td>\n",
       "    </tr>\n",
       "    <tr>\n",
       "      <td>3</td>\n",
       "      <td>103.78</td>\n",
       "      <td>0.007059</td>\n",
       "      <td>0.007084</td>\n",
       "      <td>0.73</td>\n",
       "      <td>3</td>\n",
       "    </tr>\n",
       "    <tr>\n",
       "      <td>4</td>\n",
       "      <td>102.72</td>\n",
       "      <td>-0.010266</td>\n",
       "      <td>-0.010214</td>\n",
       "      <td>-1.06</td>\n",
       "      <td>4</td>\n",
       "    </tr>\n",
       "    <tr>\n",
       "      <td>...</td>\n",
       "      <td>...</td>\n",
       "      <td>...</td>\n",
       "      <td>...</td>\n",
       "      <td>...</td>\n",
       "      <td>...</td>\n",
       "    </tr>\n",
       "    <tr>\n",
       "      <td>996</td>\n",
       "      <td>158.47</td>\n",
       "      <td>0.003793</td>\n",
       "      <td>0.003801</td>\n",
       "      <td>0.60</td>\n",
       "      <td>996</td>\n",
       "    </tr>\n",
       "    <tr>\n",
       "      <td>997</td>\n",
       "      <td>159.29</td>\n",
       "      <td>0.005161</td>\n",
       "      <td>0.005174</td>\n",
       "      <td>0.82</td>\n",
       "      <td>997</td>\n",
       "    </tr>\n",
       "    <tr>\n",
       "      <td>998</td>\n",
       "      <td>157.96</td>\n",
       "      <td>-0.008385</td>\n",
       "      <td>-0.008350</td>\n",
       "      <td>-1.33</td>\n",
       "      <td>998</td>\n",
       "    </tr>\n",
       "    <tr>\n",
       "      <td>999</td>\n",
       "      <td>157.10</td>\n",
       "      <td>-0.005459</td>\n",
       "      <td>-0.005444</td>\n",
       "      <td>-0.86</td>\n",
       "      <td>999</td>\n",
       "    </tr>\n",
       "    <tr>\n",
       "      <td>1000</td>\n",
       "      <td>155.86</td>\n",
       "      <td>-0.007924</td>\n",
       "      <td>-0.007893</td>\n",
       "      <td>-1.24</td>\n",
       "      <td>1000</td>\n",
       "    </tr>\n",
       "  </tbody>\n",
       "</table>\n",
       "<p>1001 rows × 5 columns</p>\n",
       "</div>"
      ],
      "text/plain": [
       "        S(t)      R(t)  daily_return  Delta_S   day\n",
       "0     100.00  0.000000      0.000000     0.00     0\n",
       "1     101.30  0.012916      0.013000     1.30     1\n",
       "2     103.05  0.017128      0.017275     1.75     2\n",
       "3     103.78  0.007059      0.007084     0.73     3\n",
       "4     102.72 -0.010266     -0.010214    -1.06     4\n",
       "...      ...       ...           ...      ...   ...\n",
       "996   158.47  0.003793      0.003801     0.60   996\n",
       "997   159.29  0.005161      0.005174     0.82   997\n",
       "998   157.96 -0.008385     -0.008350    -1.33   998\n",
       "999   157.10 -0.005459     -0.005444    -0.86   999\n",
       "1000  155.86 -0.007924     -0.007893    -1.24  1000\n",
       "\n",
       "[1001 rows x 5 columns]"
      ]
     },
     "execution_count": 2,
     "metadata": {},
     "output_type": "execute_result"
    }
   ],
   "source": [
    "data = pd.read_csv('dat_St.csv', sep=' ', names = ['S(t)'])\n",
    "\n",
    "R_t = [0]\n",
    "Delta_S = [0]\n",
    "\n",
    "for i in range(1, len(data)):\n",
    "    R_t.append(np.log(data['S(t)'][i] / data['S(t)'][i-1]))\n",
    "    Delta_S.append(data['S(t)'][i] - data['S(t)'][i-1])\n",
    "    \n",
    "data['R(t)'] = R_t\n",
    "data['daily_return'] = np.exp(data['R(t)']) -1\n",
    "data['Delta_S'] = Delta_S\n",
    "data['day']=list( range(len(data)))\n",
    "\n",
    "data"
   ]
  },
  {
   "cell_type": "code",
   "execution_count": 3,
   "metadata": {},
   "outputs": [
    {
     "data": {
      "text/plain": [
       "<matplotlib.axes._subplots.AxesSubplot at 0x7f04dda22c90>"
      ]
     },
     "execution_count": 3,
     "metadata": {},
     "output_type": "execute_result"
    },
    {
     "data": {
      "image/png": "[encoded data removed]",
      "text/plain": [
       "<Figure size 432x288 with 1 Axes>"
      ]
     },
     "metadata": {
      "needs_background": "light"
     },
     "output_type": "display_data"
    }
   ],
   "source": [
    "sns.lineplot( x='day', y='S(t)', data=data)"
   ]
  },
  {
   "cell_type": "code",
   "execution_count": 4,
   "metadata": {},
   "outputs": [
    {
     "data": {
      "text/plain": [
       "<matplotlib.axes._subplots.AxesSubplot at 0x7f04db659d90>"
      ]
     },
     "execution_count": 4,
     "metadata": {},
     "output_type": "execute_result"
    },
    {
     "data": {
      "image/png": "[encoded data removed]",
      "text/plain": [
       "<Figure size 432x288 with 1 Axes>"
      ]
     },
     "metadata": {
      "needs_background": "light"
     },
     "output_type": "display_data"
    }
   ],
   "source": [
    "sns.lineplot( x='day', y='R(t)', data=data)"
   ]
  },
  {
   "cell_type": "code",
   "execution_count": 5,
   "metadata": {},
   "outputs": [
    {
     "data": {
      "text/plain": [
       "<matplotlib.axes._subplots.AxesSubplot at 0x7f04db5a7bd0>"
      ]
     },
     "execution_count": 5,
     "metadata": {},
     "output_type": "execute_result"
    },
    {
     "data": {
      "image/png": "[encoded data removed]",
      "text/plain": [
       "<Figure size 432x288 with 1 Axes>"
      ]
     },
     "metadata": {
      "needs_background": "light"
     },
     "output_type": "display_data"
    }
   ],
   "source": [
    "sns.lineplot( x='day', y='daily_return', data=data)"
   ]
  },
  {
   "cell_type": "markdown",
   "metadata": {},
   "source": [
    "## a)"
   ]
  },
  {
   "cell_type": "code",
   "execution_count": 6,
   "metadata": {},
   "outputs": [
    {
     "name": "stdout",
     "output_type": "stream",
     "text": [
      "Volatility: 0.20165657013423272 \t mean return: 0.11083615944738355\n"
     ]
    }
   ],
   "source": [
    "T = 250\n",
    "volatility = np.sqrt(T) * data['R(t)'].std()\n",
    "mean_return = T*data['R(t)'].mean()\n",
    "\n",
    "print(\"Volatility: {:} \\t mean return: {:}\".format(volatility, mean_return) )"
   ]
  },
  {
   "cell_type": "markdown",
   "metadata": {},
   "source": [
    "## b)"
   ]
  },
  {
   "cell_type": "markdown",
   "metadata": {},
   "source": [
    "from (3a) we have the following relation:\n",
    "\n",
    "$$VaR_\\alpha =  -S_0 \\cdot \\mu\\cdot t + \\sqrt{2t}S_0\\sigma\\cdot InverseErcf(2\\alpha)$$\n",
    "\n",
    "$$ES = -S_0t\\mu + \\frac{e^{-InverseErcf(-1+2\\alpha)^2}S_0\\sqrt{t}\\sigma}{ \\sqrt{2\\pi}\\alpha}$$\n",
    "\n",
    "where $S_0 = S(0)$"
   ]
  },
  {
   "cell_type": "code",
   "execution_count": 7,
   "metadata": {},
   "outputs": [],
   "source": [
    "from scipy.special import erfinv\n",
    "\n",
    "def get_approximate_VaRa(S0, mu, sigma, t, alpha, n):\n",
    "    return (-S0*mu*t + np.sqrt(2*t)*S0 * sigma * erfinv(1-2*alpha))*n\n",
    "\n",
    "\n",
    "def get_approximate_ES(S0, mu, sigma, t, alpha, n):\n",
    "    return (-S0*mu*t + np.exp(-erfinv(-1+2*alpha)**2)*S0*np.sqrt(t)*sigma /(np.sqrt(2*PI)*alpha))*n   "
   ]
  },
  {
   "cell_type": "code",
   "execution_count": 8,
   "metadata": {
    "scrolled": false
   },
   "outputs": [
    {
     "name": "stdout",
     "output_type": "stream",
     "text": [
      "α = 0.01: VaR: 292266 PLN \t mean return: 335484 PLN\n",
      "α = 0.05: VaR: 205349 PLN \t mean return: 258642 PLN\n",
      "α = 0.1: VaR: 159014 PLN \t mean return: 219395 PLN\n",
      "α = 0.2: VaR: 102905 PLN \t mean return: 174096 PLN\n"
     ]
    }
   ],
   "source": [
    "n = 10*10**6 ## investment\n",
    "\n",
    "S0 = 1  #data['S(t)'][0]\n",
    "sigma = volatility \n",
    "mu = mean_return\n",
    "\n",
    "t = 1/250;\n",
    "alpha = 0.01\n",
    "VaRa = get_approximate_VaRa(S0, mu, sigma, t, alpha, n)\n",
    "ES_a = get_approximate_ES(S0, mu, sigma, t, alpha, n)\n",
    "\n",
    "print(u'\\u03B1 = {:}: VaR: {:} PLN \\t mean return: {:} PLN'.format(alpha, int(VaRa), int(ES_a)) )\n",
    "\n",
    "alpha = 0.05\n",
    "VaRa = get_approximate_VaRa(S0, mu, sigma, t, alpha, n)\n",
    "ES_a = get_approximate_ES(S0, mu, sigma, t, alpha, n)\n",
    "print(u'\\u03B1 = {:}: VaR: {:} PLN \\t mean return: {:} PLN'.format(alpha, int(VaRa), int(ES_a)) )\n",
    "\n",
    "alpha = 0.1\n",
    "VaRa = get_approximate_VaRa(S0, mu, sigma, t, alpha, n)\n",
    "ES_a = get_approximate_ES(S0, mu, sigma, t, alpha, n)\n",
    "print(u'\\u03B1 = {:}: VaR: {:} PLN \\t mean return: {:} PLN'.format(alpha, int(VaRa), int(ES_a)) )\n",
    "\n",
    "alpha = 0.2\n",
    "VaRa = get_approximate_VaRa(S0, mu, sigma, t, alpha, n)\n",
    "ES_a = get_approximate_ES(S0, mu, sigma, t, alpha, n)\n",
    "print(u'\\u03B1 = {:}: VaR: {:} PLN \\t mean return: {:} PLN'.format(alpha, int(VaRa), int(ES_a)) )\n"
   ]
  },
  {
   "cell_type": "markdown",
   "metadata": {},
   "source": [
    "## c)"
   ]
  },
  {
   "cell_type": "code",
   "execution_count": 9,
   "metadata": {},
   "outputs": [
    {
     "name": "stdout",
     "output_type": "stream",
     "text": [
      "α = 0.01: daily volatility: 629242 PLN \t mean return: 724005 PLN\n",
      "α = 0.05: daily volatility: 438664 PLN \t mean return: 555517 PLN\n",
      "α = 0.1: daily volatility: 337067 PLN \t mean return: 469461 PLN\n",
      "α = 0.2: daily volatility: 214042 PLN \t mean return: 370138 PLN\n"
     ]
    }
   ],
   "source": [
    "t = 1/52;\n",
    "\n",
    "alpha = 0.01\n",
    "VaRa = -S0*mu*t + np.sqrt(2*t)*S0 * sigma * erfinv(1-2*alpha)\n",
    "ES_a = -S0*mu*t + np.exp(-erfinv(-1+2*alpha)**2)*S0*np.sqrt(t)*sigma /(np.sqrt(2*PI)*alpha)\n",
    "print(u'\\u03B1 = {:}: VaR: {:} PLN \\t mean return: {:} PLN'.format(alpha, int(VaRa*n), int(ES_a*n)) )\n",
    "\n",
    "alpha = 0.05\n",
    "VaRa = -S0*mu*t + np.sqrt(2*t)*S0 * sigma * erfinv(1-2*alpha)\n",
    "ES_a = -S0*mu*t + np.exp(-erfinv(-1+2*alpha)**2)*S0*np.sqrt(t)*sigma /(np.sqrt(2*PI)*alpha)\n",
    "print(u'\\u03B1 = {:}: VaR: {:} PLN \\t mean return: {:} PLN'.format(alpha, int(VaRa*n), int(ES_a*n)) )\n",
    "\n",
    "alpha = 0.1\n",
    "VaRa = -S0*mu*t + np.sqrt(2*t)*S0 * sigma * erfinv(1-2*alpha)\n",
    "ES_a = -S0*mu*t + np.exp(-erfinv(-1+2*alpha)**2)*S0*np.sqrt(t)*sigma /(np.sqrt(2*PI)*alpha)\n",
    "print(u'\\u03B1 = {:}: VaR: {:} PLN \\t mean return: {:} PLN'.format(alpha, int(VaRa*n), int(ES_a*n)) )\n",
    "\n",
    "alpha = 0.2\n",
    "VaRa = -S0*mu*t + np.sqrt(2*t)*S0 * sigma * erfinv(1-2*alpha)\n",
    "ES_a = -S0*mu*t + np.exp(-erfinv(-1+2*alpha)**2)*S0*np.sqrt(t)*sigma /(np.sqrt(2*PI)*alpha)\n",
    "print(u'\\u03B1 = {:}: VaR: {:} PLN \\t mean return: {:} PLN'.format(alpha, int(VaRa*n), int(ES_a*n)) )\n"
   ]
  },
  {
   "cell_type": "markdown",
   "metadata": {},
   "source": [
    "## d)"
   ]
  },
  {
   "cell_type": "code",
   "execution_count": 10,
   "metadata": {},
   "outputs": [],
   "source": [
    "def empirical_cdf(x0, X):\n",
    "    \n",
    "    for i,x in enumerate(X):\n",
    "        if x>x0:\n",
    "            break\n",
    "    \n",
    "    return (i-1)/len(X)   "
   ]
  },
  {
   "cell_type": "code",
   "execution_count": 11,
   "metadata": {},
   "outputs": [],
   "source": [
    "def get_VaRa(daily_return, alpha):\n",
    "       \n",
    "    daily_return.sort()\n",
    "    CDF = []\n",
    "\n",
    "    for s in daily_return:\n",
    "        CDF.append(empirical_cdf(s, daily_return))\n",
    "    \n",
    "    for s, cdf in zip(daily_return, CDF):        \n",
    "        if cdf>alpha: \n",
    "            return -s"
   ]
  },
  {
   "cell_type": "markdown",
   "metadata": {},
   "source": [
    "$$ES_\\alpha(X) = \\frac{1}{\\alpha} \\int_0^{\\alpha}VaR_\\gamma(X)d\\gamma$$"
   ]
  },
  {
   "cell_type": "code",
   "execution_count": 12,
   "metadata": {},
   "outputs": [],
   "source": [
    "from scipy import integrate\n",
    "\n",
    "def get_ESa(daily_return, alpha):   \n",
    "    VaRa = lambda x: get_VaRa(daily_return, alpha = x )\n",
    "    return 1/alpha * integrate.quad(VaRa, 0, alpha)[0]"
   ]
  },
  {
   "cell_type": "code",
   "execution_count": 19,
   "metadata": {
    "scrolled": true
   },
   "outputs": [
    {
     "name": "stdout",
     "output_type": "stream",
     "text": [
      "α = 0.01\tVaRa(X) = 285130 PLN\t ESa(X) = 574433 PLN\n",
      "α = 0.05\tVaRa(X) = 195358 PLN\t ESa(X) = 505921 PLN\n",
      "α = 0.10\tVaRa(X) = 153650 PLN\t ESa(X) = 450938 PLN\n",
      "α = 0.20\tVaRa(X) = 106658 PLN\t ESa(X) = 360447 PLN\n"
     ]
    }
   ],
   "source": [
    "daily_return= np.array(copy(data['daily_return']))\n",
    "\n",
    "VaRa_001 = get_VaRa(daily_return, alpha = 0.01 )\n",
    "VaRa_005 = get_VaRa(daily_return, alpha = 0.05 )\n",
    "VaRa_010 = get_VaRa(daily_return, alpha = 0.10 )\n",
    "VaRa_020 = get_VaRa(daily_return, alpha = 0.20 )\n",
    "\n",
    "ES_001 = get_ESa(daily_return, 0.01)\n",
    "ES_005 = get_ESa(daily_return, 0.05)\n",
    "ES_010 = get_ESa(daily_return, 0.10)\n",
    "ES_020 = get_ESa(daily_return, 0.20)\n",
    "\n",
    "\n",
    "print(u'\\u03B1 = 0.01\\tVaRa(X) = {:} PLN\\t ESa(X) = {:} PLN'.format(int(VaRa_001*n),int(ES_001*n)))\n",
    "print(u'\\u03B1 = 0.05\\tVaRa(X) = {:} PLN\\t ESa(X) = {:} PLN'.format(int(VaRa_005*n),int(ES_005*n)))\n",
    "print(u'\\u03B1 = 0.10\\tVaRa(X) = {:} PLN\\t ESa(X) = {:} PLN'.format(int(VaRa_010*n),int(ES_010*n)))\n",
    "print(u'\\u03B1 = 0.20\\tVaRa(X) = {:} PLN\\t ESa(X) = {:} PLN'.format(int(VaRa_020*n),int(ES_020*n)))"
   ]
  },
  {
   "cell_type": "markdown",
   "metadata": {},
   "source": [
    "## e)\n"
   ]
  },
  {
   "cell_type": "code",
   "execution_count": 14,
   "metadata": {},
   "outputs": [
    {
     "data": {
      "text/html": [
       "<div>\n",
       "<style scoped>\n",
       "    .dataframe tbody tr th:only-of-type {\n",
       "        vertical-align: middle;\n",
       "    }\n",
       "\n",
       "    .dataframe tbody tr th {\n",
       "        vertical-align: top;\n",
       "    }\n",
       "\n",
       "    .dataframe thead th {\n",
       "        text-align: right;\n",
       "    }\n",
       "</style>\n",
       "<table border=\"1\" class=\"dataframe\">\n",
       "  <thead>\n",
       "    <tr style=\"text-align: right;\">\n",
       "      <th></th>\n",
       "      <th>S(t)</th>\n",
       "      <th>R(t)</th>\n",
       "      <th>weekly_return</th>\n",
       "      <th>n</th>\n",
       "    </tr>\n",
       "  </thead>\n",
       "  <tbody>\n",
       "    <tr>\n",
       "      <td>0</td>\n",
       "      <td>100.00</td>\n",
       "      <td>0.000000</td>\n",
       "      <td>0.000000</td>\n",
       "      <td>0</td>\n",
       "    </tr>\n",
       "    <tr>\n",
       "      <td>5</td>\n",
       "      <td>103.10</td>\n",
       "      <td>0.030529</td>\n",
       "      <td>0.031000</td>\n",
       "      <td>1</td>\n",
       "    </tr>\n",
       "    <tr>\n",
       "      <td>10</td>\n",
       "      <td>102.71</td>\n",
       "      <td>-0.003790</td>\n",
       "      <td>-0.003783</td>\n",
       "      <td>2</td>\n",
       "    </tr>\n",
       "    <tr>\n",
       "      <td>15</td>\n",
       "      <td>103.41</td>\n",
       "      <td>0.006792</td>\n",
       "      <td>0.006815</td>\n",
       "      <td>3</td>\n",
       "    </tr>\n",
       "    <tr>\n",
       "      <td>20</td>\n",
       "      <td>105.99</td>\n",
       "      <td>0.024643</td>\n",
       "      <td>0.024949</td>\n",
       "      <td>4</td>\n",
       "    </tr>\n",
       "    <tr>\n",
       "      <td>...</td>\n",
       "      <td>...</td>\n",
       "      <td>...</td>\n",
       "      <td>...</td>\n",
       "      <td>...</td>\n",
       "    </tr>\n",
       "    <tr>\n",
       "      <td>980</td>\n",
       "      <td>149.13</td>\n",
       "      <td>-0.003548</td>\n",
       "      <td>-0.003541</td>\n",
       "      <td>196</td>\n",
       "    </tr>\n",
       "    <tr>\n",
       "      <td>985</td>\n",
       "      <td>152.10</td>\n",
       "      <td>0.019720</td>\n",
       "      <td>0.019916</td>\n",
       "      <td>197</td>\n",
       "    </tr>\n",
       "    <tr>\n",
       "      <td>990</td>\n",
       "      <td>159.31</td>\n",
       "      <td>0.046314</td>\n",
       "      <td>0.047403</td>\n",
       "      <td>198</td>\n",
       "    </tr>\n",
       "    <tr>\n",
       "      <td>995</td>\n",
       "      <td>157.87</td>\n",
       "      <td>-0.009080</td>\n",
       "      <td>-0.009039</td>\n",
       "      <td>199</td>\n",
       "    </tr>\n",
       "    <tr>\n",
       "      <td>1000</td>\n",
       "      <td>155.86</td>\n",
       "      <td>-0.012814</td>\n",
       "      <td>-0.012732</td>\n",
       "      <td>200</td>\n",
       "    </tr>\n",
       "  </tbody>\n",
       "</table>\n",
       "<p>201 rows × 4 columns</p>\n",
       "</div>"
      ],
      "text/plain": [
       "        S(t)      R(t)  weekly_return    n\n",
       "0     100.00  0.000000       0.000000    0\n",
       "5     103.10  0.030529       0.031000    1\n",
       "10    102.71 -0.003790      -0.003783    2\n",
       "15    103.41  0.006792       0.006815    3\n",
       "20    105.99  0.024643       0.024949    4\n",
       "...      ...       ...            ...  ...\n",
       "980   149.13 -0.003548      -0.003541  196\n",
       "985   152.10  0.019720       0.019916  197\n",
       "990   159.31  0.046314       0.047403  198\n",
       "995   157.87 -0.009080      -0.009039  199\n",
       "1000  155.86 -0.012814      -0.012732  200\n",
       "\n",
       "[201 rows x 4 columns]"
      ]
     },
     "execution_count": 14,
     "metadata": {},
     "output_type": "execute_result"
    }
   ],
   "source": [
    "weekly_data = copy(data[data.index%5 ==0])\n",
    "weekly_data.drop(['daily_return', 'Delta_S', 'day', 'R(t)'], axis = 1,inplace = True)\n",
    "\n",
    "R_t = [0]\n",
    "for i in range(1, len(weekly_data)):\n",
    "    R_t.append(np.log(weekly_data['S(t)'][5*i] / weekly_data['S(t)'][(i-1)*5]))\n",
    "    \n",
    "weekly_data['R(t)'] = R_t\n",
    "weekly_data['weekly_return'] = np.exp(weekly_data['R(t)']) -1\n",
    "weekly_data['n'] = list( range(len(weekly_data)))\n",
    "\n",
    "weekly_data"
   ]
  },
  {
   "cell_type": "code",
   "execution_count": 18,
   "metadata": {},
   "outputs": [
    {
     "name": "stdout",
     "output_type": "stream",
     "text": [
      "α = 0.01\tVaRa(X) = 561675 PLN\t ESa(X) = 574433 PLN\n",
      "α = 0.05\tVaRa(X) = 441631 PLN\t ESa(X) = 505921 PLN\n",
      "α = 0.10\tVaRa(X) = 340065 PLN\t ESa(X) = 450938 PLN\n",
      "α = 0.20\tVaRa(X) = 209976 PLN\t ESa(X) = 360447 PLN\n"
     ]
    }
   ],
   "source": [
    "weekly_return= np.array(copy(weekly_data['weekly_return']))\n",
    "\n",
    "VaRa_001 = get_VaRa(weekly_return, alpha = 0.01 )\n",
    "VaRa_005 = get_VaRa(weekly_return, alpha = 0.05 )\n",
    "VaRa_010 = get_VaRa(weekly_return, alpha = 0.10 )\n",
    "VaRa_020 = get_VaRa(weekly_return, alpha = 0.20 )\n",
    "\n",
    "ES_001 = get_ESa(weekly_return, 0.01)\n",
    "ES_005 = get_ESa(weekly_return, 0.05)\n",
    "ES_010 = get_ESa(weekly_return, 0.10)\n",
    "ES_020 = get_ESa(weekly_return, 0.20)\n",
    "\n",
    "print(u'\\u03B1 = 0.01\\tVaRa(X) = {:} PLN\\t ESa(X) = {:} PLN'.format(int(VaRa_001*n),int(ES_001*n)))\n",
    "print(u'\\u03B1 = 0.05\\tVaRa(X) = {:} PLN\\t ESa(X) = {:} PLN'.format(int(VaRa_005*n),int(ES_005*n)))\n",
    "print(u'\\u03B1 = 0.10\\tVaRa(X) = {:} PLN\\t ESa(X) = {:} PLN'.format(int(VaRa_010*n),int(ES_010*n)))\n",
    "print(u'\\u03B1 = 0.20\\tVaRa(X) = {:} PLN\\t ESa(X) = {:} PLN'.format(int(VaRa_020*n),int(ES_020*n)))"
   ]
  },
  {
   "cell_type": "markdown",
   "metadata": {},
   "source": [
    "## f)"
   ]
  },
  {
   "cell_type": "code",
   "execution_count": 16,
   "metadata": {},
   "outputs": [
    {
     "name": "stdout",
     "output_type": "stream",
     "text": [
      "CPU times: user 3 µs, sys: 0 ns, total: 3 µs\n",
      "Wall time: 5.96 µs\n"
     ]
    },
    {
     "name": "stderr",
     "output_type": "stream",
     "text": [
      "/home/neofelia/anaconda3/lib/python3.7/site-packages/ipykernel_launcher.py:5: IntegrationWarning: The maximum number of subdivisions (50) has been achieved.\n",
      "  If increasing the limit yields no improvement it is advised to analyze \n",
      "  the integrand in order to determine the difficulties.  If the position of a \n",
      "  local difficulty can be determined (singularity, discontinuity) one will \n",
      "  probably gain from splitting up the interval and calling the integrator \n",
      "  on the subranges.  Perhaps a special-purpose integrator should be used.\n",
      "  \"\"\"\n"
     ]
    },
    {
     "data": {
      "text/plain": [
       "Text(0.5, 1.0, 'Daily ES(α)')"
      ]
     },
     "execution_count": 16,
     "metadata": {},
     "output_type": "execute_result"
    },
    {
     "data": {
      "image/png": "[encoded data removed]",
      "text/plain": [
       "<Figure size 1080x360 with 2 Axes>"
      ]
     },
     "metadata": {
      "needs_background": "light"
     },
     "output_type": "display_data"
    }
   ],
   "source": [
    "%time\n",
    "\n",
    "t = 1/250;\n",
    "\n",
    "empirical_daily_VaRa = []\n",
    "approximate_daily_VaRa = []\n",
    "\n",
    "empirical_daily_ES = []\n",
    "approximate_daily_ES = []\n",
    "\n",
    "alpha_tab = [0.01, 0.02, 0.05, 0.1, 0.2, 0.3, 0.4, 0.5, 0.6, 0.7, 0.8, 0.9]\n",
    "\n",
    "for alpha in alpha_tab:\n",
    "    approximate_daily_VaRa.append( get_approximate_VaRa(S0, mu, sigma, t, alpha, n) )\n",
    "    approximate_daily_ES.append( get_approximate_ES(S0, mu, sigma, t, alpha, n) )\n",
    "    \n",
    "    empirical_daily_VaRa.append(get_VaRa(daily_return, alpha = alpha)*n)\n",
    "    empirical_daily_ES.append(get_ESa(daily_return, alpha)*n)\n",
    "        \n",
    "        \n",
    "fig, ax = plt.subplots(1,2, figsize = (15,5))\n",
    "ax[0].scatter(alpha_tab, approximate_daily_VaRa, color = 'violet', label = 'approximate')\n",
    "ax[0].scatter(alpha_tab, empirical_daily_VaRa, color = 'purple', label = 'empirical')\n",
    "\n",
    "ax[0].set_xlabel(u'\\u03B1')\n",
    "ax[0].set_ylabel(u'VaR(\\u03B1) [PLN]')\n",
    "ax[0].legend()\n",
    "ax[0].set_title(u'Daily VaR\\u03B1')\n",
    "\n",
    "ax[1].scatter(alpha_tab, approximate_daily_ES, color = 'violet', label = 'approximate')\n",
    "ax[1].scatter(alpha_tab, empirical_daily_ES, color = 'purple', label = 'empirical')\n",
    "\n",
    "ax[1].set_xlabel(u'\\u03B1')\n",
    "ax[1].set_ylabel(u'ES(\\u03B1) [PLN]')\n",
    "ax[1].legend()\n",
    "ax[1].set_title(u'Daily ES(\\u03B1)')\n",
    "\n",
    "\n"
   ]
  },
  {
   "cell_type": "code",
   "execution_count": 17,
   "metadata": {},
   "outputs": [
    {
     "name": "stdout",
     "output_type": "stream",
     "text": [
      "CPU times: user 3 µs, sys: 0 ns, total: 3 µs\n",
      "Wall time: 7.39 µs\n"
     ]
    },
    {
     "name": "stderr",
     "output_type": "stream",
     "text": [
      "/home/neofelia/anaconda3/lib/python3.7/site-packages/ipykernel_launcher.py:5: IntegrationWarning: The maximum number of subdivisions (50) has been achieved.\n",
      "  If increasing the limit yields no improvement it is advised to analyze \n",
      "  the integrand in order to determine the difficulties.  If the position of a \n",
      "  local difficulty can be determined (singularity, discontinuity) one will \n",
      "  probably gain from splitting up the interval and calling the integrator \n",
      "  on the subranges.  Perhaps a special-purpose integrator should be used.\n",
      "  \"\"\"\n"
     ]
    },
    {
     "data": {
      "text/plain": [
       "Text(0.5, 1.0, 'Weekly ES(α)')"
      ]
     },
     "execution_count": 17,
     "metadata": {},
     "output_type": "execute_result"
    },
    {
     "data": {
      "image/png": "[encoded data removed]",
      "text/plain": [
       "<Figure size 1080x360 with 2 Axes>"
      ]
     },
     "metadata": {
      "needs_background": "light"
     },
     "output_type": "display_data"
    }
   ],
   "source": [
    "%time\n",
    "\n",
    "t = 1/52;\n",
    "\n",
    "empirical_weekly_VaRa = []\n",
    "approximate_weekly_VaRa = []\n",
    "\n",
    "empirical_weekly_ES = []\n",
    "approximate_weekly_ES = []\n",
    "\n",
    "alpha_tab = [0.01, 0.02, 0.05, 0.1, 0.2, 0.3, 0.4, 0.5, 0.6, 0.7, 0.8, 0.9]\n",
    "\n",
    "for alpha in alpha_tab:\n",
    "    approximate_weekly_VaRa.append( get_approximate_VaRa(S0, mu, sigma, t, alpha, n) )\n",
    "    approximate_weekly_ES.append( get_approximate_ES(S0, mu, sigma, t, alpha, n) )\n",
    "    \n",
    "    empirical_weekly_VaRa.append(get_VaRa(weekly_return, alpha = alpha)*n)\n",
    "    empirical_weekly_ES.append(get_ESa(weekly_return, alpha)*n)\n",
    "        \n",
    "        \n",
    "fig, ax = plt.subplots(1,2, figsize = (15,5))\n",
    "ax[0].scatter(alpha_tab, approximate_daily_VaRa, color = 'violet', label = 'approximate')\n",
    "ax[0].scatter(alpha_tab, empirical_daily_VaRa, color = 'purple', label = 'empirical')\n",
    "\n",
    "ax[0].set_xlabel(u'\\u03B1')\n",
    "ax[0].set_ylabel(u'VaR(\\u03B1) [PLN]')\n",
    "ax[0].legend()\n",
    "ax[0].set_title(u'Weekly VaR\\u03B1')\n",
    "\n",
    "ax[1].scatter(alpha_tab, approximate_daily_ES, color = 'violet', label = 'approximate')\n",
    "ax[1].scatter(alpha_tab, empirical_daily_ES, color = 'purple', label = 'empirical')\n",
    "\n",
    "ax[1].set_xlabel(u'\\u03B1')\n",
    "ax[1].set_ylabel(u'ES(\\u03B1) [PLN]')\n",
    "ax[1].legend()\n",
    "ax[1].set_title(u'Weekly ES(\\u03B1)')"
   ]
  }
 ],
 "metadata": {
  "kernelspec": {
   "display_name": "Python 3",
   "language": "python",
   "name": "python3"
  },
  "language_info": {
   "codemirror_mode": {
    "name": "ipython",
    "version": 3
   },
   "file_extension": ".py",
   "mimetype": "text/x-python",
   "name": "python",
   "nbconvert_exporter": "python",
   "pygments_lexer": "ipython3",
   "version": "3.7.4"
  }
 },
 "nbformat": 4,
 "nbformat_minor": 2
}
