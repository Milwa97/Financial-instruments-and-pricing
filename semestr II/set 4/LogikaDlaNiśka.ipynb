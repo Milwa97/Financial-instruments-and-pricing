{
 "cells": [
  {
   "cell_type": "code",
   "execution_count": 1,
   "metadata": {},
   "outputs": [],
   "source": [
    "from sympy import *\n",
    "a2,b1,b2,c1,c2,lbd = symbols('a2 b1 b2 c1 c2 lbd', bool=True)"
   ]
  },
  {
   "cell_type": "code",
   "execution_count": 7,
   "metadata": {},
   "outputs": [],
   "source": [
    "models = satisfiable( (~a2|~b1) & (~c1|~b1) & (~c2|~b2) &  (~a2|~c2) & ((~c1 & ~c2)|(~lbd)) & ((~b1 & ~b2)|(~lbd)), all_models=True)"
   ]
  },
  {
   "cell_type": "code",
   "execution_count": 8,
   "metadata": {},
   "outputs": [
    {
     "name": "stdout",
     "output_type": "stream",
     "text": [
      "0 \t realization: {a2: False, lbd: False, c2: False, c1: False, b2: False, b1: False}\n",
      "1 \t realization: {a2: True, lbd: False, c2: False, c1: False, b2: False, b1: False}\n",
      "2 \t realization: {b2: True, a2: False, lbd: False, c2: False, c1: False, b1: False}\n",
      "3 \t realization: {a2: True, b2: True, lbd: False, c2: False, c1: False, b1: False}\n",
      "4 \t realization: {c1: True, a2: False, lbd: False, c2: False, b2: False, b1: False}\n",
      "5 \t realization: {a2: True, c1: True, lbd: False, c2: False, b2: False, b1: False}\n",
      "6 \t realization: {b2: True, c1: True, a2: False, lbd: False, c2: False, b1: False}\n",
      "7 \t realization: {a2: True, b2: True, c1: True, lbd: False, c2: False, b1: False}\n",
      "8 \t realization: {b1: True, a2: False, lbd: False, c2: False, c1: False, b2: False}\n",
      "9 \t realization: {b1: True, b2: True, a2: False, lbd: False, c2: False, c1: False}\n",
      "10 \t realization: {c2: True, a2: False, lbd: False, c1: False, b2: False, b1: False}\n",
      "11 \t realization: {c1: True, c2: True, a2: False, lbd: False, b2: False, b1: False}\n",
      "12 \t realization: {b1: True, c2: True, a2: False, lbd: False, c1: False, b2: False}\n",
      "13 \t realization: {lbd: True, b1: False, c2: False, c1: False, b2: False, a2: False}\n",
      "14 \t realization: {a2: True, lbd: True, b1: False, c2: False, c1: False, b2: False}\n"
     ]
    }
   ],
   "source": [
    "for i,model in enumerate(models):\n",
    "    print(\"{:} \\t realization: {:}\".format(i, model))"
   ]
  },
  {
   "cell_type": "code",
   "execution_count": 11,
   "metadata": {},
   "outputs": [],
   "source": [
    "models = satisfiable( b2 &(~a2|~b1) & (~c1|~b1) & (~c2|~b2) &  (~a2|~c2) & ((~c1 & ~c2)|(~lbd)) & ((~b1 & ~b2)|(~lbd)), all_models=True)"
   ]
  },
  {
   "cell_type": "code",
   "execution_count": 12,
   "metadata": {},
   "outputs": [
    {
     "name": "stdout",
     "output_type": "stream",
     "text": [
      "0 \t realization: {b2: True, a2: False, lbd: False, c2: False, c1: False, b1: False}\n",
      "1 \t realization: {a2: True, b2: True, lbd: False, c2: False, c1: False, b1: False}\n",
      "2 \t realization: {b2: True, c1: True, a2: False, lbd: False, c2: False, b1: False}\n",
      "3 \t realization: {a2: True, b2: True, c1: True, lbd: False, c2: False, b1: False}\n",
      "4 \t realization: {b1: True, b2: True, a2: False, lbd: False, c2: False, c1: False}\n"
     ]
    }
   ],
   "source": [
    "for i,model in enumerate(models):\n",
    "    print(\"{:} \\t realization: {:}\".format(i, model))"
   ]
  },
  {
   "cell_type": "code",
   "execution_count": null,
   "metadata": {},
   "outputs": [],
   "source": []
  }
 ],
 "metadata": {
  "kernelspec": {
   "display_name": "Python 3",
   "language": "python",
   "name": "python3"
  },
  "language_info": {
   "codemirror_mode": {
    "name": "ipython",
    "version": 3
   },
   "file_extension": ".py",
   "mimetype": "text/x-python",
   "name": "python",
   "nbconvert_exporter": "python",
   "pygments_lexer": "ipython3",
   "version": "3.7.4"
  }
 },
 "nbformat": 4,
 "nbformat_minor": 2
}
