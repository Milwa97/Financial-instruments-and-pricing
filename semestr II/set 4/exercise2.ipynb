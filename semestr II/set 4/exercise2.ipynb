{
 "cells": [
  {
   "cell_type": "code",
   "execution_count": 1,
   "metadata": {},
   "outputs": [],
   "source": [
    "import numpy as np\n",
    "import pandas as pd\n",
    "import matplotlib.pyplot as plt\n",
    "from mpl_toolkits import mplot3d\n",
    "\n",
    "from copy import deepcopy\n",
    "from sklearn.linear_model import LinearRegression\n",
    "\n",
    "from sympy.solvers import solve\n",
    "from sympy import *\n",
    "\n",
    "%matplotlib inline"
   ]
  },
  {
   "cell_type": "markdown",
   "metadata": {},
   "source": [
    "# MA(q) processes\n",
    "\n",
    "$$y_t = \\alpha_0 \\eta_t + \\alpha_1 \\eta_{t-1} + ... + \\alpha_q \\eta_{t-q}$$\n",
    "\n",
    "$$ y_t = \\left( \\sum_{i=0}^g \\alpha_i B^i\\right)\\eta_t $$\n",
    "\n",
    "where:\n",
    "* $\\eta$ is a White Gaussian Noise\n",
    "* $<\\eta_t> = 0$\n",
    "* $<\\eta^2>=1$\n",
    "* $B$ - backshift operator ($B^0 = 1$)\n",
    "\n"
   ]
  },
  {
   "cell_type": "markdown",
   "metadata": {},
   "source": [
    "## a)\n",
    "Find the orderpand fit the parameters: $\\beta_i(i= 1,...,p)$, $\\alpha_0$ using the 2-step linear regression method. In order to find $p$ and the best fit use the \"AIC\" and \"BIC\" criteria.\n",
    "Use $m=5$to estimate the realized noise in 1-st step and remember about normalizing it such that the variance is  1, in 2-nd step use this data to fit regression of $y(t)$ against the (shifted) noise variables."
   ]
  },
  {
   "cell_type": "code",
   "execution_count": 2,
   "metadata": {},
   "outputs": [
    {
     "data": {
      "text/plain": [
       "[<matplotlib.lines.Line2D at 0x7fce9c8ca690>]"
      ]
     },
     "execution_count": 2,
     "metadata": {},
     "output_type": "execute_result"
    },
    {
     "data": {
      "image/png": "[encoded data removed]",
      "text/plain": [
       "<Figure size 432x288 with 1 Axes>"
      ]
     },
     "metadata": {
      "needs_background": "light"
     },
     "output_type": "display_data"
    }
   ],
   "source": [
    "data = []\n",
    "\n",
    "with open(\"MAdata.txt\", \"r\") as f:\n",
    "    for line in f:\n",
    "        data.append(float(line))\n",
    "        \n",
    "data = np.array(data)\n",
    "plt.plot(data)"
   ]
  },
  {
   "cell_type": "markdown",
   "metadata": {},
   "source": [
    "### Two step regression: step 1"
   ]
  },
  {
   "cell_type": "code",
   "execution_count": 3,
   "metadata": {},
   "outputs": [],
   "source": [
    "def dividing_data_into_subseries_II(data, k=2):\n",
    "    X = []\n",
    "    Y = []\n",
    "    for i in range(len(data)-k):\n",
    "        tmp = []\n",
    "        for j in range(k):\n",
    "            tmp.append(data[j+i])\n",
    "        X.append(tmp)\n",
    "        Y.append(data[k+i] )\n",
    "    \n",
    "    return np.array(X), np.array(Y)"
   ]
  },
  {
   "cell_type": "code",
   "execution_count": 4,
   "metadata": {},
   "outputs": [
    {
     "name": "stdout",
     "output_type": "stream",
     "text": [
      "fitted coefficients  beta_(t-4)...beta_(t-1): [-0.12012871  0.36018872 -0.37838572 -0.08674498  0.80444727]\n",
      "\n",
      "mean= -0.000000\t std = 1.000000\n"
     ]
    }
   ],
   "source": [
    "X,Y = dividing_data_into_subseries_II(data, k=5) \n",
    "\n",
    "reg = LinearRegression(fit_intercept = True).fit(X, Y)\n",
    "prediction = reg.predict(X)\n",
    "\n",
    "print(\"fitted coefficients  beta_(t-4)...beta_(t-1): {:}\".format(reg.coef_) )\n",
    "\n",
    "eps = Y - reg.predict(X)\n",
    "eps = eps/eps.std()\n",
    "\n",
    "print(\"\\nmean= {:2f}\\t std = {:2f}\".format( eps.mean(), eps.std()))"
   ]
  },
  {
   "cell_type": "code",
   "execution_count": 5,
   "metadata": {},
   "outputs": [
    {
     "data": {
      "text/html": [
       "<div>\n",
       "<style scoped>\n",
       "    .dataframe tbody tr th:only-of-type {\n",
       "        vertical-align: middle;\n",
       "    }\n",
       "\n",
       "    .dataframe tbody tr th {\n",
       "        vertical-align: top;\n",
       "    }\n",
       "\n",
       "    .dataframe thead th {\n",
       "        text-align: right;\n",
       "    }\n",
       "</style>\n",
       "<table border=\"1\" class=\"dataframe\">\n",
       "  <thead>\n",
       "    <tr style=\"text-align: right;\">\n",
       "      <th></th>\n",
       "      <th>y(t5)</th>\n",
       "      <th>y(t4)</th>\n",
       "      <th>y(t3)</th>\n",
       "      <th>y(t2)</th>\n",
       "      <th>y(t1)</th>\n",
       "      <th>y(t)</th>\n",
       "      <th>eps</th>\n",
       "      <th>eps-1</th>\n",
       "      <th>eps-2</th>\n",
       "      <th>eps-3</th>\n",
       "      <th>eps-4</th>\n",
       "      <th>eps-5</th>\n",
       "      <th>eps+1</th>\n",
       "      <th>eps+2</th>\n",
       "      <th>eps+3</th>\n",
       "      <th>eps+4</th>\n",
       "      <th>eps+5</th>\n",
       "    </tr>\n",
       "  </thead>\n",
       "  <tbody>\n",
       "    <tr>\n",
       "      <td>5</td>\n",
       "      <td>-0.192600</td>\n",
       "      <td>-1.299081</td>\n",
       "      <td>-0.226935</td>\n",
       "      <td>0.065571</td>\n",
       "      <td>1.144725</td>\n",
       "      <td>0.265750</td>\n",
       "      <td>-0.576152</td>\n",
       "      <td>-0.627442</td>\n",
       "      <td>1.561935</td>\n",
       "      <td>1.439632</td>\n",
       "      <td>-0.553278</td>\n",
       "      <td>-0.254515</td>\n",
       "      <td>1.340070</td>\n",
       "      <td>0.090356</td>\n",
       "      <td>1.110229</td>\n",
       "      <td>-1.616030</td>\n",
       "      <td>-0.488669</td>\n",
       "    </tr>\n",
       "    <tr>\n",
       "      <td>6</td>\n",
       "      <td>-1.299081</td>\n",
       "      <td>-0.226935</td>\n",
       "      <td>0.065571</td>\n",
       "      <td>1.144725</td>\n",
       "      <td>0.265750</td>\n",
       "      <td>-0.153007</td>\n",
       "      <td>-0.627442</td>\n",
       "      <td>1.561935</td>\n",
       "      <td>1.439632</td>\n",
       "      <td>-0.553278</td>\n",
       "      <td>-0.254515</td>\n",
       "      <td>0.024647</td>\n",
       "      <td>-0.576152</td>\n",
       "      <td>1.340070</td>\n",
       "      <td>0.090356</td>\n",
       "      <td>1.110229</td>\n",
       "      <td>-1.616030</td>\n",
       "    </tr>\n",
       "    <tr>\n",
       "      <td>7</td>\n",
       "      <td>-0.226935</td>\n",
       "      <td>0.065571</td>\n",
       "      <td>1.144725</td>\n",
       "      <td>0.265750</td>\n",
       "      <td>-0.153007</td>\n",
       "      <td>0.284510</td>\n",
       "      <td>1.561935</td>\n",
       "      <td>1.439632</td>\n",
       "      <td>-0.553278</td>\n",
       "      <td>-0.254515</td>\n",
       "      <td>0.024647</td>\n",
       "      <td>0.333815</td>\n",
       "      <td>-0.627442</td>\n",
       "      <td>-0.576152</td>\n",
       "      <td>1.340070</td>\n",
       "      <td>0.090356</td>\n",
       "      <td>1.110229</td>\n",
       "    </tr>\n",
       "    <tr>\n",
       "      <td>8</td>\n",
       "      <td>0.065571</td>\n",
       "      <td>1.144725</td>\n",
       "      <td>0.265750</td>\n",
       "      <td>-0.153007</td>\n",
       "      <td>0.284510</td>\n",
       "      <td>1.295828</td>\n",
       "      <td>1.439632</td>\n",
       "      <td>-0.553278</td>\n",
       "      <td>-0.254515</td>\n",
       "      <td>0.024647</td>\n",
       "      <td>0.333815</td>\n",
       "      <td>-0.782455</td>\n",
       "      <td>1.561935</td>\n",
       "      <td>-0.627442</td>\n",
       "      <td>-0.576152</td>\n",
       "      <td>1.340070</td>\n",
       "      <td>0.090356</td>\n",
       "    </tr>\n",
       "    <tr>\n",
       "      <td>9</td>\n",
       "      <td>1.144725</td>\n",
       "      <td>0.265750</td>\n",
       "      <td>-0.153007</td>\n",
       "      <td>0.284510</td>\n",
       "      <td>1.295828</td>\n",
       "      <td>0.755126</td>\n",
       "      <td>-0.553278</td>\n",
       "      <td>-0.254515</td>\n",
       "      <td>0.024647</td>\n",
       "      <td>0.333815</td>\n",
       "      <td>-0.782455</td>\n",
       "      <td>-2.199992</td>\n",
       "      <td>1.439632</td>\n",
       "      <td>1.561935</td>\n",
       "      <td>-0.627442</td>\n",
       "      <td>-0.576152</td>\n",
       "      <td>1.340070</td>\n",
       "    </tr>\n",
       "    <tr>\n",
       "      <td>...</td>\n",
       "      <td>...</td>\n",
       "      <td>...</td>\n",
       "      <td>...</td>\n",
       "      <td>...</td>\n",
       "      <td>...</td>\n",
       "      <td>...</td>\n",
       "      <td>...</td>\n",
       "      <td>...</td>\n",
       "      <td>...</td>\n",
       "      <td>...</td>\n",
       "      <td>...</td>\n",
       "      <td>...</td>\n",
       "      <td>...</td>\n",
       "      <td>...</td>\n",
       "      <td>...</td>\n",
       "      <td>...</td>\n",
       "      <td>...</td>\n",
       "    </tr>\n",
       "    <tr>\n",
       "      <td>986</td>\n",
       "      <td>-0.101703</td>\n",
       "      <td>0.536068</td>\n",
       "      <td>2.027797</td>\n",
       "      <td>0.977956</td>\n",
       "      <td>0.555992</td>\n",
       "      <td>-0.363077</td>\n",
       "      <td>-0.330069</td>\n",
       "      <td>0.143503</td>\n",
       "      <td>0.160003</td>\n",
       "      <td>-1.860632</td>\n",
       "      <td>0.109108</td>\n",
       "      <td>1.218314</td>\n",
       "      <td>0.071871</td>\n",
       "      <td>-0.564649</td>\n",
       "      <td>2.514021</td>\n",
       "      <td>0.890813</td>\n",
       "      <td>1.395357</td>\n",
       "    </tr>\n",
       "    <tr>\n",
       "      <td>987</td>\n",
       "      <td>0.536068</td>\n",
       "      <td>2.027797</td>\n",
       "      <td>0.977956</td>\n",
       "      <td>0.555992</td>\n",
       "      <td>-0.363077</td>\n",
       "      <td>0.036522</td>\n",
       "      <td>0.143503</td>\n",
       "      <td>0.160003</td>\n",
       "      <td>-1.860632</td>\n",
       "      <td>0.109108</td>\n",
       "      <td>1.218314</td>\n",
       "      <td>1.480871</td>\n",
       "      <td>-0.330069</td>\n",
       "      <td>0.071871</td>\n",
       "      <td>-0.564649</td>\n",
       "      <td>2.514021</td>\n",
       "      <td>0.890813</td>\n",
       "    </tr>\n",
       "    <tr>\n",
       "      <td>988</td>\n",
       "      <td>2.027797</td>\n",
       "      <td>0.977956</td>\n",
       "      <td>0.555992</td>\n",
       "      <td>-0.363077</td>\n",
       "      <td>0.036522</td>\n",
       "      <td>0.048544</td>\n",
       "      <td>0.160003</td>\n",
       "      <td>-1.860632</td>\n",
       "      <td>0.109108</td>\n",
       "      <td>1.218314</td>\n",
       "      <td>1.480871</td>\n",
       "      <td>-0.743832</td>\n",
       "      <td>0.143503</td>\n",
       "      <td>-0.330069</td>\n",
       "      <td>0.071871</td>\n",
       "      <td>-0.564649</td>\n",
       "      <td>2.514021</td>\n",
       "    </tr>\n",
       "    <tr>\n",
       "      <td>989</td>\n",
       "      <td>0.977956</td>\n",
       "      <td>0.555992</td>\n",
       "      <td>-0.363077</td>\n",
       "      <td>0.036522</td>\n",
       "      <td>0.048544</td>\n",
       "      <td>-0.697383</td>\n",
       "      <td>-1.860632</td>\n",
       "      <td>0.109108</td>\n",
       "      <td>1.218314</td>\n",
       "      <td>1.480871</td>\n",
       "      <td>-0.743832</td>\n",
       "      <td>-1.093246</td>\n",
       "      <td>0.160003</td>\n",
       "      <td>0.143503</td>\n",
       "      <td>-0.330069</td>\n",
       "      <td>0.071871</td>\n",
       "      <td>-0.564649</td>\n",
       "    </tr>\n",
       "    <tr>\n",
       "      <td>990</td>\n",
       "      <td>0.555992</td>\n",
       "      <td>-0.363077</td>\n",
       "      <td>0.036522</td>\n",
       "      <td>0.048544</td>\n",
       "      <td>-0.697383</td>\n",
       "      <td>-0.713475</td>\n",
       "      <td>0.109108</td>\n",
       "      <td>1.218314</td>\n",
       "      <td>1.480871</td>\n",
       "      <td>-0.743832</td>\n",
       "      <td>-1.093246</td>\n",
       "      <td>-0.265627</td>\n",
       "      <td>-1.860632</td>\n",
       "      <td>0.160003</td>\n",
       "      <td>0.143503</td>\n",
       "      <td>-0.330069</td>\n",
       "      <td>0.071871</td>\n",
       "    </tr>\n",
       "  </tbody>\n",
       "</table>\n",
       "<p>986 rows × 17 columns</p>\n",
       "</div>"
      ],
      "text/plain": [
       "        y(t5)     y(t4)     y(t3)     y(t2)     y(t1)      y(t)       eps  \\\n",
       "5   -0.192600 -1.299081 -0.226935  0.065571  1.144725  0.265750 -0.576152   \n",
       "6   -1.299081 -0.226935  0.065571  1.144725  0.265750 -0.153007 -0.627442   \n",
       "7   -0.226935  0.065571  1.144725  0.265750 -0.153007  0.284510  1.561935   \n",
       "8    0.065571  1.144725  0.265750 -0.153007  0.284510  1.295828  1.439632   \n",
       "9    1.144725  0.265750 -0.153007  0.284510  1.295828  0.755126 -0.553278   \n",
       "..        ...       ...       ...       ...       ...       ...       ...   \n",
       "986 -0.101703  0.536068  2.027797  0.977956  0.555992 -0.363077 -0.330069   \n",
       "987  0.536068  2.027797  0.977956  0.555992 -0.363077  0.036522  0.143503   \n",
       "988  2.027797  0.977956  0.555992 -0.363077  0.036522  0.048544  0.160003   \n",
       "989  0.977956  0.555992 -0.363077  0.036522  0.048544 -0.697383 -1.860632   \n",
       "990  0.555992 -0.363077  0.036522  0.048544 -0.697383 -0.713475  0.109108   \n",
       "\n",
       "        eps-1     eps-2     eps-3     eps-4     eps-5     eps+1     eps+2  \\\n",
       "5   -0.627442  1.561935  1.439632 -0.553278 -0.254515  1.340070  0.090356   \n",
       "6    1.561935  1.439632 -0.553278 -0.254515  0.024647 -0.576152  1.340070   \n",
       "7    1.439632 -0.553278 -0.254515  0.024647  0.333815 -0.627442 -0.576152   \n",
       "8   -0.553278 -0.254515  0.024647  0.333815 -0.782455  1.561935 -0.627442   \n",
       "9   -0.254515  0.024647  0.333815 -0.782455 -2.199992  1.439632  1.561935   \n",
       "..        ...       ...       ...       ...       ...       ...       ...   \n",
       "986  0.143503  0.160003 -1.860632  0.109108  1.218314  0.071871 -0.564649   \n",
       "987  0.160003 -1.860632  0.109108  1.218314  1.480871 -0.330069  0.071871   \n",
       "988 -1.860632  0.109108  1.218314  1.480871 -0.743832  0.143503 -0.330069   \n",
       "989  0.109108  1.218314  1.480871 -0.743832 -1.093246  0.160003  0.143503   \n",
       "990  1.218314  1.480871 -0.743832 -1.093246 -0.265627 -1.860632  0.160003   \n",
       "\n",
       "        eps+3     eps+4     eps+5  \n",
       "5    1.110229 -1.616030 -0.488669  \n",
       "6    0.090356  1.110229 -1.616030  \n",
       "7    1.340070  0.090356  1.110229  \n",
       "8   -0.576152  1.340070  0.090356  \n",
       "9   -0.627442 -0.576152  1.340070  \n",
       "..        ...       ...       ...  \n",
       "986  2.514021  0.890813  1.395357  \n",
       "987 -0.564649  2.514021  0.890813  \n",
       "988  0.071871 -0.564649  2.514021  \n",
       "989 -0.330069  0.071871 -0.564649  \n",
       "990  0.143503 -0.330069  0.071871  \n",
       "\n",
       "[986 rows x 17 columns]"
      ]
     },
     "execution_count": 5,
     "metadata": {},
     "output_type": "execute_result"
    }
   ],
   "source": [
    "YY = np.vstack((Y,eps)).transpose()\n",
    "np.hstack((YY, X))\n",
    "\n",
    "df = pd.DataFrame(np.hstack((X,YY)), columns = ['y(t5)', 'y(t4)', 'y(t3)', 'y(t2)', 'y(t1)', 'y(t)', 'eps'])\n",
    "\n",
    "df['eps-1'] = df['eps'].shift(-1)\n",
    "df['eps-2'] = df['eps'].shift(-2)\n",
    "df['eps-3'] = df['eps'].shift(-3)\n",
    "df['eps-4'] = df['eps'].shift(-4)\n",
    "df['eps-5'] = df['eps'].shift(-5)\n",
    "\n",
    "df['eps+1'] = df['eps'].shift(1)\n",
    "df['eps+2'] = df['eps'].shift(2)\n",
    "df['eps+3'] = df['eps'].shift(3)\n",
    "df['eps+4'] = df['eps'].shift(4)\n",
    "df['eps+5'] = df['eps'].shift(5)\n",
    "\n",
    "df.dropna(inplace = True)\n",
    "df"
   ]
  },
  {
   "cell_type": "markdown",
   "metadata": {},
   "source": [
    "### Two step regression: step 2"
   ]
  },
  {
   "cell_type": "code",
   "execution_count": 6,
   "metadata": {},
   "outputs": [],
   "source": [
    "def get_AIC_BIC(df, x_cols):\n",
    "    \n",
    "    k=len(x_cols)\n",
    "    Y = np.array(df['y(t)'])\n",
    "    X = np.array(df[x_cols])\n",
    "    \n",
    "    reg = LinearRegression(fit_intercept = False).fit(X, Y)\n",
    "    prediction = reg.predict(X)\n",
    "    N = len(X)\n",
    "    \n",
    "    alpha = np.sqrt(((Y-prediction)**2).mean())   \n",
    "    AIC = N*np.log(((Y-prediction)**2).mean()) + 2*k   \n",
    "    BIC = N*np.log(((Y-prediction)**2).mean()) + np.log(N)*k    \n",
    "    \n",
    "    print(\"\\n\\nk = {:}, alpha = {:}\\t AIC = {:}\\t BIC = {:}\\n\".format(k,alpha, AIC, BIC))\n",
    "    print(\"reg.coef_ = {:}\\tintercept = {:}\".format(reg.coef_, reg.intercept_) )\n",
    "    \n",
    "    return [k, alpha, AIC, BIC]"
   ]
  },
  {
   "cell_type": "code",
   "execution_count": 7,
   "metadata": {},
   "outputs": [
    {
     "name": "stdout",
     "output_type": "stream",
     "text": [
      "\n",
      "\n",
      "k = 1, alpha = 0.599340117386145\t AIC = -1007.5181377682172\t BIC = -1002.6244814136146\n",
      "\n",
      "reg.coef_ = [0.406073]\tintercept = 0.0\n",
      "\n",
      "\n",
      "k = 2, alpha = 0.5113506601881491\t AIC = -1318.6198097053011\t BIC = -1308.8324969960959\n",
      "\n",
      "reg.coef_ = [0.41126442 0.31314482]\tintercept = 0.0\n",
      "\n",
      "\n",
      "k = 3, alpha = 0.5110212923940226\t AIC = -1317.8904105093382\t BIC = -1303.2094414455303\n",
      "\n",
      "reg.coef_ = [ 0.41214415  0.31286094 -0.0183911 ]\tintercept = 0.0\n",
      "\n",
      "\n",
      "k = 4, alpha = 0.5110147486407275\t AIC = -1315.9156626158785\t BIC = -1296.341037197468\n",
      "\n",
      "reg.coef_ = [ 0.412248    0.31273797 -0.01835132  0.00259062]\tintercept = 0.0\n",
      "\n",
      "\n",
      "k = 5, alpha = 0.5100592842410672\t AIC = -1317.6062399597208\t BIC = -1293.1379581867077\n",
      "\n",
      "reg.coef_ = [ 0.41243666  0.31402256 -0.01982767  0.00304693  0.03128732]\tintercept = 0.0\n"
     ]
    }
   ],
   "source": [
    "tab = []\n",
    "\n",
    "tab.append(get_AIC_BIC(df, ['eps+1'] ))\n",
    "tab.append(get_AIC_BIC(df, ['eps+1', 'eps+2'] ))\n",
    "tab.append(get_AIC_BIC(df, ['eps+1', 'eps+2', 'eps+3'] ))\n",
    "tab.append(get_AIC_BIC(df, ['eps+1', 'eps+2', 'eps+3', 'eps+4'] ))\n",
    "tab.append(get_AIC_BIC(df, ['eps+1', 'eps+2', 'eps+3', 'eps+4', 'eps+5'] ))"
   ]
  },
  {
   "cell_type": "code",
   "execution_count": 8,
   "metadata": {},
   "outputs": [
    {
     "data": {
      "text/plain": [
       "<matplotlib.collections.PathCollection at 0x7fce9bf26310>"
      ]
     },
     "execution_count": 8,
     "metadata": {},
     "output_type": "execute_result"
    },
    {
     "data": {
      "image/png": "[encoded data removed]",
      "text/plain": [
       "<Figure size 1080x360 with 3 Axes>"
      ]
     },
     "metadata": {
      "needs_background": "light"
     },
     "output_type": "display_data"
    }
   ],
   "source": [
    "k_tab, alpha_tab, AIC_tab, BIC_tab = np.array(tab).transpose()\n",
    "\n",
    "fig, axs = plt.subplots(nrows=1, ncols=3, figsize = (15,5))\n",
    "\n",
    "for ax in axs:\n",
    "    ax.set_xlabel('k')\n",
    "    ax.grid(True, alpha = 0.5)\n",
    "    \n",
    "axs[0].set_title('alpha')\n",
    "axs[1].set_title('AIC')\n",
    "axs[2].set_title('BIC')\n",
    "    \n",
    "axs[0].scatter(k_tab, alpha_tab, color = 'violet')\n",
    "axs[1].scatter(k_tab, AIC_tab, color = 'fuchsia')\n",
    "axs[2].scatter(k_tab, BIC_tab, color = 'purple')"
   ]
  },
  {
   "cell_type": "markdown",
   "metadata": {},
   "source": [
    "It seems like q=2 is the order of MA(q) process\n",
    "\n",
    "* $\\beta_1 = 0.41126442$ (coefficient at eps+1)\n",
    "* $\\beta_2 = 0.31314482$ (coefficient at eps+2)\n",
    "* $intercept = 0.0$"
   ]
  },
  {
   "cell_type": "code",
   "execution_count": 9,
   "metadata": {},
   "outputs": [
    {
     "name": "stdout",
     "output_type": "stream",
     "text": [
      "\n",
      "\n",
      "q = 2, alpha = 0.5113506601881491\t AIC = -1318.6198097053011\t BIC = -1308.8324969960959\n",
      "\n",
      "reg.coef_ = [0.41126442 0.31314482]\tintercept = 0.0\n"
     ]
    }
   ],
   "source": [
    "q=2 \n",
    "Y = np.array(df['y(t)'])\n",
    "X = np.array(df[['eps+1','eps+2']])\n",
    "    \n",
    "reg = LinearRegression(fit_intercept = False).fit(X, Y)\n",
    "prediction = reg.predict(X)\n",
    "N = len(Y)\n",
    "\n",
    "alpha_0 = np.sqrt(((Y-prediction )**2).mean())\n",
    "AIC = N*np.log(((Y-prediction)**2).mean() )+ 2*q   \n",
    "BIC = N*np.log(((Y-prediction)**2).mean()) + np.log(N)*q    \n",
    "   \n",
    "print(\"\\n\\nq = {:}, alpha = {:}\\t AIC = {:}\\t BIC = {:}\\n\".format(q,alpha_0, AIC, BIC))\n",
    "print(\"reg.coef_ = {:}\\tintercept = {:}\".format(reg.coef_, reg.intercept_) )\n",
    "    "
   ]
  },
  {
   "cell_type": "markdown",
   "metadata": {},
   "source": [
    "# b) \n",
    "Compute  the  sample autocorrelation function (SACF, $\\rho(t)$ and the sample partial autocorrelation function (SPACF,$\\phi(t)$) and plot them for $t= 1,...10$. Based on the plot of SPACF check the orderp (on the plot include Gaussian N(0,(T−t)−1) bands for $95\\%$ confidence level to check when SPACF becomes statistically zero)."
   ]
  },
  {
   "cell_type": "code",
   "execution_count": 10,
   "metadata": {},
   "outputs": [],
   "source": [
    "def dividing_data_into_subseries(data, k=2, k_max=11):\n",
    "    data_k = []\n",
    "    for i in range(len(data)-k_max):\n",
    "        tmp = [ ]\n",
    "        for j in range(k):\n",
    "            tmp.append(data[j+i])\n",
    "        tmp.append(data[k+i])\n",
    "        data_k.append(tmp)\n",
    "    return np.array(data_k).T"
   ]
  },
  {
   "cell_type": "code",
   "execution_count": 11,
   "metadata": {},
   "outputs": [],
   "source": [
    "def get_autocorrelation_coeff(data, delta):\n",
    "    \n",
    "    data_k = dividing_data_into_subseries(data, k=delta)  \n",
    "    denominator = (data**2).mean()\n",
    "    nominator = (data_k[0]*data_k[-1]).mean()\n",
    "    \n",
    "    return nominator/denominator\n",
    "    "
   ]
  },
  {
   "cell_type": "code",
   "execution_count": 12,
   "metadata": {},
   "outputs": [],
   "source": [
    "def get_autocorrelation(p,data):\n",
    "    \n",
    "    autocorrelation_tab = []\n",
    "\n",
    "    for delta in range(1,p+1):\n",
    "        autocorrelation = get_autocorrelation_coeff(data, delta)\n",
    "        autocorrelation_tab.append(autocorrelation)\n",
    "    \n",
    "    return autocorrelation_tab"
   ]
  },
  {
   "cell_type": "markdown",
   "metadata": {},
   "source": [
    "### sample autocorrelation function (SACF)"
   ]
  },
  {
   "cell_type": "code",
   "execution_count": 13,
   "metadata": {},
   "outputs": [
    {
     "name": "stdout",
     "output_type": "stream",
     "text": [
      "Δt = 1\t ρ(Δt)=0.639600\n",
      "Δt = 2\t ρ(Δt)=0.294154\n",
      "Δt = 3\t ρ(Δt)=-0.003510\n",
      "Δt = 4\t ρ(Δt)=0.014596\n",
      "Δt = 5\t ρ(Δt)=0.010283\n",
      "Δt = 6\t ρ(Δt)=-0.027150\n",
      "Δt = 7\t ρ(Δt)=-0.075388\n",
      "Δt = 8\t ρ(Δt)=-0.090840\n",
      "Δt = 9\t ρ(Δt)=-0.086528\n",
      "Δt = 10\t ρ(Δt)=-0.062394\n"
     ]
    },
    {
     "data": {
      "text/plain": [
       "<matplotlib.collections.LineCollection at 0x7fce9bcddc90>"
      ]
     },
     "execution_count": 13,
     "metadata": {},
     "output_type": "execute_result"
    },
    {
     "data": {
      "image/png": "[encoded data removed]",
      "text/plain": [
       "<Figure size 432x288 with 1 Axes>"
      ]
     },
     "metadata": {
      "needs_background": "light"
     },
     "output_type": "display_data"
    }
   ],
   "source": [
    "p=10\n",
    "p_tab = list(range(1,p+1))\n",
    "autocorrelation_tab = get_autocorrelation(p,data)\n",
    "\n",
    "for delta_t, corr in zip(p_tab, autocorrelation_tab):\n",
    "    print(u'\\u0394t = {:}\\t \\u03C1(\\u0394t)={:2f}'.format(delta_t,corr ))\n",
    "\n",
    "N = 490\n",
    "confidence_level = 1.96/np.sqrt(N)\n",
    "\n",
    "\n",
    "plt.title('autocorrelation')\n",
    "plt.scatter(p_tab, autocorrelation_tab, color ='red')  \n",
    "plt.ylabel(u'\\u03C1(\\u0394t)')\n",
    "plt.xlabel(u'\\u0394t')\n",
    "plt.grid()\n",
    "\n",
    "plt.hlines(y = confidence_level, xmin=0, xmax = p+1, linestyles='dashed', color = 'black', alpha = 0.5)\n",
    "plt.hlines(y = -confidence_level, xmin=0, xmax = p+1, linestyles='dashed', color = 'black', alpha = 0.5)\n"
   ]
  },
  {
   "cell_type": "markdown",
   "metadata": {},
   "source": [
    "###  Partial autocorrelation function (PACF)"
   ]
  },
  {
   "cell_type": "code",
   "execution_count": 14,
   "metadata": {},
   "outputs": [],
   "source": [
    "def get_partial_autocorrelation(p, data):\n",
    "    \n",
    "    autocorrelation_tab = get_autocorrelation(p,data)\n",
    "    \n",
    "    M = np.identity(p)*0.5\n",
    "    for i in range(p):\n",
    "        for j in range(i+1, p):\n",
    "            M[i][j] = autocorrelation_tab[j-i-1]\n",
    "    \n",
    "    A = np.matrix(M.T + M)\n",
    "    A_inv = np.linalg.inv(A) \n",
    "    \n",
    "    psi_vec = np.array(np.dot(A_inv,autocorrelation_tab))[0]\n",
    "    \n",
    "    return psi_vec[-1]"
   ]
  },
  {
   "cell_type": "code",
   "execution_count": 19,
   "metadata": {},
   "outputs": [
    {
     "name": "stdout",
     "output_type": "stream",
     "text": [
      "Δt = 1\t Φ(Δt)=0.639600\n",
      "Δt = 2\t Φ(Δt)=-0.194504\n",
      "Δt = 3\t Φ(Δt)=-0.182638\n",
      "Δt = 4\t Φ(Δt)=0.273179\n",
      "Δt = 5\t Φ(Δt)=-0.125215\n",
      "Δt = 6\t Φ(Δt)=-0.128887\n",
      "Δt = 7\t Φ(Δt)=0.086820\n",
      "Δt = 8\t Φ(Δt)=-0.060005\n",
      "Δt = 9\t Φ(Δt)=-0.071853\n",
      "Δt = 10\t Φ(Δt)=0.060464\n"
     ]
    },
    {
     "data": {
      "text/plain": [
       "<matplotlib.collections.LineCollection at 0x7fce9b744e90>"
      ]
     },
     "execution_count": 19,
     "metadata": {},
     "output_type": "execute_result"
    },
    {
     "data": {
      "image/png": "[encoded data removed]",
      "text/plain": [
       "<Figure size 432x288 with 1 Axes>"
      ]
     },
     "metadata": {
      "needs_background": "light"
     },
     "output_type": "display_data"
    }
   ],
   "source": [
    "p=10\n",
    "p_tab = list(range(1,p+1))\n",
    "partial_corr_tab_tab = []\n",
    "\n",
    "for k in range(1,p+1):\n",
    "    partial_corr_tab_tab.append(get_partial_autocorrelation(k,data))\n",
    "\n",
    "\n",
    "for delta_t, p_corr in zip(p_tab, partial_corr_tab_tab):\n",
    "    print(u'\\u0394t = {:}\\t \\u03A6(\\u0394t)={:2f}'.format(delta_t, p_corr ))\n",
    "\n",
    "    \n",
    "plt.title('partial autocorrelation')\n",
    "plt.scatter(p_tab, partial_corr_tab_tab, color ='red')  \n",
    "plt.ylabel(u'\\u03A6(\\u0394t)')\n",
    "plt.xlabel(u'\\u0394t')\n",
    "plt.grid()\n",
    "plt.hlines(y = confidence_level, xmin=0, xmax = p+1, linestyles='dashed', color = 'black', alpha = 0.5)\n",
    "plt.hlines(y = -confidence_level, xmin=0, xmax = p+1, linestyles='dashed', color = 'black', alpha = 0.5)"
   ]
  },
  {
   "cell_type": "markdown",
   "metadata": {},
   "source": [
    "Based on the above two plots we see that autocorrelation drops abruptly to 0 (with confidence level $95\\%$) after $q=2$. So the order of MA(q) process is 2."
   ]
  },
  {
   "cell_type": "markdown",
   "metadata": {},
   "source": [
    "# c\n",
    "\n",
    "###  Autocorrelation matrix  and  Yule Walker Equations\n",
    "\n",
    "For the order $p$ established in (b) fit the parameters: $\\beta_i (i=1,...,p)$ and $\\alpha_0$ using the Yule-Walkermethod (in the matrix form)."
   ]
  },
  {
   "cell_type": "code",
   "execution_count": null,
   "metadata": {},
   "outputs": [],
   "source": []
  },
  {
   "cell_type": "code",
   "execution_count": null,
   "metadata": {},
   "outputs": [],
   "source": []
  },
  {
   "cell_type": "code",
   "execution_count": null,
   "metadata": {},
   "outputs": [],
   "source": []
  },
  {
   "cell_type": "code",
   "execution_count": null,
   "metadata": {},
   "outputs": [],
   "source": []
  },
  {
   "cell_type": "code",
   "execution_count": null,
   "metadata": {},
   "outputs": [],
   "source": []
  },
  {
   "cell_type": "code",
   "execution_count": null,
   "metadata": {},
   "outputs": [],
   "source": []
  },
  {
   "cell_type": "code",
   "execution_count": 16,
   "metadata": {},
   "outputs": [
    {
     "ename": "NameError",
     "evalue": "name 'STOP' is not defined",
     "output_type": "error",
     "traceback": [
      "\u001b[0;31m---------------------------------------------------------------------------\u001b[0m",
      "\u001b[0;31mNameError\u001b[0m                                 Traceback (most recent call last)",
      "\u001b[0;32m<ipython-input-16-ee4decdca3b8>\u001b[0m in \u001b[0;36m<module>\u001b[0;34m\u001b[0m\n\u001b[0;32m----> 1\u001b[0;31m \u001b[0mSTOP\u001b[0m\u001b[0;34m\u001b[0m\u001b[0;34m\u001b[0m\u001b[0m\n\u001b[0m",
      "\u001b[0;31mNameError\u001b[0m: name 'STOP' is not defined"
     ]
    }
   ],
   "source": [
    "STOP"
   ]
  },
  {
   "cell_type": "code",
   "execution_count": null,
   "metadata": {},
   "outputs": [],
   "source": [
    "def dividing_data_into_subseries(data, k=2):\n",
    "    data_k = []\n",
    "    for i in range(len(data)-k):\n",
    "        tmp = [ ]\n",
    "        for j in range(k):\n",
    "            tmp.append(data[j+i])\n",
    "        tmp.append(data[k+i])\n",
    "        data_k.append(tmp)  \n",
    "    return np.array(data_k).T"
   ]
  },
  {
   "cell_type": "code",
   "execution_count": null,
   "metadata": {},
   "outputs": [],
   "source": [
    "data_1 = dividing_data_into_subseries(data, k=1)  #q=1\n",
    "data_2 = dividing_data_into_subseries(data, k=2)  #q=2\n",
    "data_3 = dividing_data_into_subseries(data, k=3)  #q=3\n",
    "data_4 = dividing_data_into_subseries(data, k=4)  #q=4\n",
    "data_5 = dividing_data_into_subseries(data, k=5)  #q=5"
   ]
  },
  {
   "cell_type": "markdown",
   "metadata": {},
   "source": [
    "\n",
    "We are looking for the autocorrelation function $ACF \\equiv \\rho\\Delta t$\n",
    "\n",
    "$$ <y_ty_{\\Delta t}> = <y_t^2>\\rho_{\\Delta t}$$\n",
    "\n",
    "$$ y_t = \\sum_{i=0}^g\\alpha_i\\eta_{t-i}$$\n",
    "\n",
    "$$ y_{t-\\Delta t} = \\sum_{i=0}^g\\alpha_j\\eta_{t-\\Delta t -j}$$\n",
    "$$ <y_ty_{t-\\Delta t}> =  \\sum_{i=0}^g\\sum_{j=0}^g<\\eta_{t-i}\\eta_{t-\\Delta t -h}> = \\sum_{i=\\Delta t}^g \\alpha_i \\alpha_{i-\\Delta t} $$"
   ]
  },
  {
   "cell_type": "code",
   "execution_count": null,
   "metadata": {},
   "outputs": [],
   "source": [
    "cov0 = (data**2).mean()\n",
    "cov1 = (data_1[0]*data_1[-1]).mean()\n",
    "cov2 = (data_2[0]*data_2[-1]).mean()\n",
    "cov3 = (data_3[0]*data_3[-1]).mean()\n",
    "cov4 = (data_4[0]*data_4[-1]).mean()\n",
    "cov5 = (data_5[0]*data_5[-1]).mean()\n",
    "\n",
    "print(\"cov0 = {:2f}\\t cov1 = {:2f}\\t cov2 = {:2f} \\\n",
    "        \\tcov3 = {:2f} \\tcov4 = {:2f}\\ncov5 = {:2f}\".format(cov0, cov1,cov2,cov3,cov4,cov5))"
   ]
  },
  {
   "cell_type": "markdown",
   "metadata": {},
   "source": [
    "### Yule Walker Equations:\n",
    "\n",
    "\n",
    "* MA(1):\n",
    "$$ <y_ty_t>=\\alpha_0^2+\\alpha_1^2 $$\n",
    "$$ <y_ty_{t-1}>=\\alpha_0\\cdot\\alpha_1 $$\n",
    "\n",
    "* MA(2):\n",
    "$$ <y_ty_t>=\\alpha_0^2+\\alpha_1^2 +\\alpha_2^2 $$\n",
    "$$ <y_ty_{t-1}>=\\alpha_0\\alpha_1 +\\alpha_1\\alpha_2 $$\n",
    "$$ <y_ty_{t-2}>=\\alpha_0\\alpha_2 $$\n",
    "\n",
    "* MA(3):\n",
    "$$ <y_ty_t>=\\alpha_0^2+\\alpha_1^2 +\\alpha_2^2 +\\alpha_3^2$$\n",
    "$$ <y_ty_{t-1}>=\\alpha_0\\alpha_1 +\\alpha_1\\alpha_2+\\alpha_2\\alpha_3$$\n",
    "$$ <y_ty_{t-2}>=\\alpha_0\\alpha_2 +\\alpha_1\\alpha_3 $$\n",
    "$$ <y_ty_{t-3}>=\\alpha_0\\alpha_3 $$\n",
    "\n",
    "* MA(4):\n",
    "$$ <y_ty_t>=\\alpha_0^2+\\alpha_1^2 +\\alpha_2^2 +\\alpha_3^2+\\alpha_4^2$$\n",
    "$$ <y_ty_{t-1}>=\\alpha_0\\alpha_1 +\\alpha_1\\alpha_2+\\alpha_2\\alpha_3+\\alpha_3\\alpha_4$$\n",
    "$$ <y_ty_{t-2}>=\\alpha_0\\alpha_2 +\\alpha_1\\alpha_3 +\\alpha_2\\alpha_4 $$\n",
    "$$ <y_ty_{t-3}>=\\alpha_0\\alpha_3+\\alpha_1\\alpha_4 $$\n",
    "$$ <y_ty_{t-4}>=\\alpha_0\\alpha_4$$"
   ]
  },
  {
   "cell_type": "code",
   "execution_count": null,
   "metadata": {},
   "outputs": [],
   "source": [
    "from sympy.solvers.solveset import nonlinsolve\n",
    "\n",
    "alpha0, alpha1, alpha2, alpha3, alpha4, alpha5 = symbols('alpha0 alpha1 alpha2 alpha3 alpha4 alpha5', real=True)\n",
    "x = symbols('x')"
   ]
  },
  {
   "cell_type": "code",
   "execution_count": null,
   "metadata": {
    "scrolled": true
   },
   "outputs": [],
   "source": [
    "## q=1\n",
    "\n",
    "f1 = cov0-alpha0**2-alpha1**2\n",
    "f2 = cov1-alpha0*alpha1\n",
    "\n",
    "sol_q1 = solve( [f1,f2], set = True)\n",
    "sol_q1 = sol_q1[1]\n",
    "sol_q1"
   ]
  },
  {
   "cell_type": "code",
   "execution_count": null,
   "metadata": {
    "scrolled": false
   },
   "outputs": [],
   "source": [
    "## q=2\n",
    "\n",
    "f1=cov0-alpha0**2-alpha1**2-alpha2**2\n",
    "f2=cov1-alpha0*alpha1-alpha1*alpha2\n",
    "f3=cov2-alpha0*alpha2\n",
    "\n",
    "sol_q2 = solve( [f1,f2,f3], set = True)\n",
    "sol_q2 = sol_q2[1]\n",
    "sol_q2"
   ]
  },
  {
   "cell_type": "markdown",
   "metadata": {},
   "source": [
    "#####  q=3\n",
    "\n",
    "f1=cov0-alpha0**2-alpha1**2-alpha2**2-alpha3**2\n",
    "f2=cov1-alpha0*alpha1-alpha1*alpha2-alpha2*alpha3\n",
    "f3=cov2-alpha0*alpha2-alpha1*alpha3\n",
    "f4=cov3-alpha0*alpha3\n",
    "\n",
    "sol_q3 = solve( [f2,f3,f4], [alpha0, alpha1,alpha2,alpha3], rational=False)\n",
    "sol_q3"
   ]
  },
  {
   "cell_type": "markdown",
   "metadata": {},
   "source": [
    "##### q=4\n",
    "\n",
    "f1=cov0-alpha0**2-alpha1**2-alpha2**2-alpha3**2-alpha4**2\n",
    "f2=cov1-alpha0*alpha1-alpha1*alpha2-alpha2*alpha3-alpha3*alpha4\n",
    "f3=cov2-alpha0*alpha2-alpha1*alpha3-alpha2*alpha4\n",
    "f4=cov3-alpha0*alpha3-alpha1*alpha4\n",
    "f5= cov4-alpha0*alpha4\n",
    "\n",
    "sol_q4 = solve( [f1,f2,f3,f4,f5], set = True)\n",
    "sol_q4"
   ]
  },
  {
   "cell_type": "code",
   "execution_count": null,
   "metadata": {},
   "outputs": [],
   "source": [
    "sol_q3 = {(-0.514414, -0.412154,-0.2994, 0.00771364),\n",
    "          (0.514414, 0.412154, 0.2994, -0.00771364),\n",
    "          (0.0128011, -0.503839, -0.417242,-0.309974),\n",
    "          (-0.0128011, 0.503839,0.417242,0.309974),\n",
    "          (0.00771364,-0.2994, -0.412154, -0.514414),\n",
    "          (-0.00771364, 0.2994, 0.412154, 0.514414),\n",
    "          (-0.309974, -0.417242,-0.503839, 0.0128011),\n",
    "          (0.309974, 0.417242, 0.503839, -0.0128011)\n",
    "}"
   ]
  },
  {
   "cell_type": "code",
   "execution_count": null,
   "metadata": {},
   "outputs": [],
   "source": [
    "sol_q4 =  {(0.504261, 0.418544, 0.306812,  -0.0198107, 0.0143874),\n",
    "           (-0.504261,-0.418544,-0.306812,   0.0198107, -0.0143874),\n",
    "           (-0.0212497,0.0388579,-0.462795,  -0.437592, -0.341416),\n",
    "           (0.0212497,-0.0388579,0.462795,   0.437592,  0.341416),\n",
    "           (0.0143874, -0.0198107,0.306812,  0.418544,  0.504261),\n",
    "           (-0.0143874, 0.0198107,-0.306812, -0.418544, -0.504261), \n",
    "           (0.341416,  0.437592, 0.462795,  -0.0388579, 0.0212497)}\n",
    "\n"
   ]
  },
  {
   "cell_type": "code",
   "execution_count": null,
   "metadata": {},
   "outputs": [],
   "source": [
    "sol_q5 = {(-0.0356633, 0.0829034, -0.200271, -0.326877, -0.584941, -0.164118),  \n",
    "          (0.0356633, -0.0829034, 0.200271, 0.326877, 0.584941, 0.164118),\n",
    "          (-0.164118, -0.584941, -0.326877, -0.200271, 0.0829034, -0.0356633),\n",
    "          (0.164118,   0.584941,  0.326877,  0.200271, -0.0829034,  0.0356633),\n",
    "          (-0.502879, -0.415566, -0.313187, 0.019113, -0.00480879, -0.011639), \n",
    "          (0.502879,   0.415566,  0.313187, -0.019113, 0.00480879, 0.011639),\n",
    "          (0.011639,   0.00480879,-0.019113, 0.313187, 0.415566, 0.502879),\n",
    "          (-0.011639, -0.00480879,0.019113, -0.313187, -0.415566, -0.502879),\n",
    "          (0.0503457, -0.13551,   0.313511, 0.427345, 0.457018, 0.116256),\n",
    "          (-0.0503457, 0.13551,  -0.313511, -0.427345,-0.457018, -0.116256),\n",
    "          (0.116256,   0.457018,  0.427345,  0.313511, -0.13551, 0.0503457),\n",
    "          (-0.116256, -0.457018, -0.427345,  -0.313511, 0.13551, -0.0503457),\n",
    "          (0.0164307,  0.000758754, -0.0334413, 0.463892, 0.425102, 0.356224),\n",
    "          (-0.0164307,-0.000758754, 0.0334413, -0.463892, -0.425102, -0.356224),\n",
    "          (0.356224,   0.425102,  0.463892,   -0.0334413,  0.000758754, 0.0164307),\n",
    "          (-0.356224, -0.425102, -0.463892,   0.0334413,  -0.000758754, -0.0164307) }\n",
    "\n"
   ]
  },
  {
   "cell_type": "code",
   "execution_count": null,
   "metadata": {},
   "outputs": [],
   "source": [
    "def get_roots(X,ceoffs):\n",
    "    return solve(sum(list(map(lambda x,y: x*y, X,coeffs))))"
   ]
  },
  {
   "cell_type": "code",
   "execution_count": null,
   "metadata": {},
   "outputs": [],
   "source": [
    "X = [1,x,x**2]\n",
    "\n",
    "for coeffs in list(sol_q2):\n",
    "    print(\"\\ncoeffs:\\t\", coeffs)\n",
    "    print(\"roots:\\t\",get_roots(X, coeffs))\n",
    "    \n",
    "    get_roots(X, coeffs)\n",
    "    "
   ]
  },
  {
   "cell_type": "code",
   "execution_count": null,
   "metadata": {},
   "outputs": [],
   "source": [
    "X = [1,x,x**2,x**3]\n",
    "\n",
    "for coeffs in list(sol_q3):\n",
    "    print(\"\\ncoeffs:\\t\", coeffs)\n",
    "    print(\"roots:\\t\",get_roots(X, coeffs))\n",
    "    \n",
    "    get_roots(X, coeffs)"
   ]
  },
  {
   "cell_type": "code",
   "execution_count": null,
   "metadata": {},
   "outputs": [],
   "source": [
    "X = [1,x,x**2,x**3, x**4]\n",
    "\n",
    "for coeffs in list(sol_q4):\n",
    "    print(\"\\ncoeffs:\\t\", coeffs)\n",
    "    print(\"roots:\\t\",get_roots(X, coeffs))\n",
    "    \n",
    "    get_roots(X, coeffs)"
   ]
  },
  {
   "cell_type": "code",
   "execution_count": null,
   "metadata": {},
   "outputs": [],
   "source": [
    "X = [1,x,x**2,x**3,x**4,x**5]\n",
    "\n",
    "for coeffs in list(sol_q5):\n",
    "    print(\"\\ncoeffs:\\t\", coeffs)\n",
    "    print(\"roots:\\t\",get_roots(X, coeffs))\n",
    "    \n",
    "    get_roots(X, coeffs)"
   ]
  },
  {
   "cell_type": "markdown",
   "metadata": {},
   "source": [
    "$$\\sum a_iz^i = 0$$\n",
    "If we take only $a_i$'s such that the roots $|z|>0$, we are left with:\n",
    "\n",
    "* q=1 - no solutions\n",
    "* q=2 - coeffs:\t (0.289485433038988, 0.410972423453576, 0.521048424658716)\n",
    "        coeffs:\t (-0.289485433038988, -0.410972423453576, -0.521048424658716)\n",
    "\n",
    "* q=3 - coeffs:\t (0.00771364, -0.2994, -0.412154, -0.514414)\n",
    "        coeffs:\t (-0.00771364, 0.2994, 0.412154, 0.514414)\n"
   ]
  }
 ],
 "metadata": {
  "kernelspec": {
   "display_name": "Python 3",
   "language": "python",
   "name": "python3"
  },
  "language_info": {
   "codemirror_mode": {
    "name": "ipython",
    "version": 3
   },
   "file_extension": ".py",
   "mimetype": "text/x-python",
   "name": "python",
   "nbconvert_exporter": "python",
   "pygments_lexer": "ipython3",
   "version": "3.7.4"
  }
 },
 "nbformat": 4,
 "nbformat_minor": 2
}
