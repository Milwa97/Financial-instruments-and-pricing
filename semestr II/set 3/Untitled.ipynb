{
 "cells": [
  {
   "cell_type": "code",
   "execution_count": 1,
   "metadata": {},
   "outputs": [
    {
     "name": "stdout",
     "output_type": "stream",
     "text": [
      "Time: 2.51 sec , Loop at: 1000 to generate symmetric matrix of size 20.\n"
     ]
    },
    {
     "data": {
      "image/png": "[encoded data removed]",
      "text/plain": [
       "<Figure size 432x288 with 1 Axes>"
      ]
     },
     "metadata": {
      "needs_background": "light"
     },
     "output_type": "display_data"
    },
    {
     "data": {
      "image/png": "[encoded data removed]",
      "text/plain": [
       "<Figure size 432x288 with 1 Axes>"
      ]
     },
     "metadata": {
      "needs_background": "light"
     },
     "output_type": "display_data"
    },
    {
     "data": {
      "text/plain": [
       "array([-1, -2, -3,  7])"
      ]
     },
     "execution_count": 1,
     "metadata": {},
     "output_type": "execute_result"
    }
   ],
   "source": [
    "# Run this code in ipython(jupyter notebook or jupter lab) notebook cell\n",
    "\n",
    "from IPython.display import display, Latex, clear_output\n",
    "import time\n",
    "\n",
    "from matplotlib import pyplot as plt\n",
    "%matplotlib inline\n",
    "\n",
    "import numpy as np\n",
    "\n",
    "# This below implementation is very useful especially for prob 4\n",
    "# Also, I'm checking the speed of numpy calculation\n",
    "\n",
    "ask = input(\"Do you want to run this cell? [y or n]\")\n",
    "if (ask == \"y\"):\n",
    "    # list of list all the eigen values of 2 to n sizes \n",
    "    # i.e. [[eigen value of 2*2], [eigen value of 3*3], ..., [eigen value of n*n]]\n",
    "    allrm = []\n",
    "    for i in range(2, 1+20):\n",
    "        rm = [] # list of all the eigen values of size i\n",
    "        start = time.time()\n",
    "        for j in range(1000):\n",
    "            # creating symmetric matrix\n",
    "            a = np.random.rand(i)\n",
    "            m = np.tril(a) + np.tril(a, -1).T\n",
    "            # calculating eigen value and append to rm list\n",
    "            rm.append(np.linalg.eigvalsh(m).tolist())\n",
    "            clear_output(wait=True)\n",
    "            end = time.time()\n",
    "            elapsed = end - start\n",
    "            print(\"Time: %.2f sec\" % elapsed, \", Loop at: %i\" % (j+1), \"to generate symmetric matrix of size %i.\" %(i))\n",
    "        allrm.append(rm)\n",
    "            \n",
    "\n",
    "# problem 5\n",
    "\n",
    "def alleigen(x:\"Matrix size\")->\"List of eigen value of this matrix\":\n",
    "    alleigens = []\n",
    "    for i in allrm[x-1]:\n",
    "        for j in i:\n",
    "            alleigens.append(j)\n",
    "    return alleigens\n",
    "\n",
    "alleigen.__annotations__\n",
    "\n",
    "def histogram(x:\"Matrix size\")->\"Shows normalized histogram\":\n",
    "    # Normalized histogram means the area is 1.\n",
    "    plt.hist(alleigen(8), density=True)\n",
    "    plt.show()\n",
    "    \n",
    "histogram.__annotations__\n",
    "\n",
    "histogram(8)\n",
    "histogram(16)\n",
    "\n",
    "# For problem 4 to calculate all consecutive difference of eigen values\n",
    "x = np.flip(np.array([1, 2, 4, 7, 0]))\n",
    "np.flip(np.ediff1d(x))"
   ]
  }
 ],
 "metadata": {
  "kernelspec": {
   "display_name": "Python 3",
   "language": "python",
   "name": "python3"
  },
  "language_info": {
   "codemirror_mode": {
    "name": "ipython",
    "version": 3
   },
   "file_extension": ".py",
   "mimetype": "text/x-python",
   "name": "python",
   "nbconvert_exporter": "python",
   "pygments_lexer": "ipython3",
   "version": "3.7.4"
  }
 },
 "nbformat": 4,
 "nbformat_minor": 2
}
