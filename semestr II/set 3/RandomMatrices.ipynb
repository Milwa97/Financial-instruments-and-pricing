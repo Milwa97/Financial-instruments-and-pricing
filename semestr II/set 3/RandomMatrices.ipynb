{
 "cells": [
  {
   "cell_type": "code",
   "execution_count": 1,
   "metadata": {
    "scrolled": true
   },
   "outputs": [],
   "source": [
    "import sympy as sym\n",
    "from sympy import I, pi, oo, sqrt, sin, cos, exp\n",
    "\n",
    "import numpy as np\n",
    "from numpy import linalg \n",
    "\n",
    "import matplotlib.pyplot as plt\n",
    "%matplotlib inline"
   ]
  },
  {
   "cell_type": "markdown",
   "metadata": {},
   "source": [
    "## Exercise 1:\n",
    "Calculate the first 10 moments of N(0,1)"
   ]
  },
  {
   "cell_type": "code",
   "execution_count": 2,
   "metadata": {},
   "outputs": [
    {
     "name": "stdout",
     "output_type": "stream",
     "text": [
      "m_1 = 0\n",
      "m_2 = 1\n",
      "m_3 = 0\n",
      "m_4 = 3\n",
      "m_5 = 0\n",
      "m_6 = 15\n",
      "m_7 = 0\n",
      "m_8 = 105\n",
      "m_9 = 0\n",
      "m_10 = 945\n"
     ]
    }
   ],
   "source": [
    "## Calculating the first 10 moments of N(0,1) using the definition of m_n\n",
    "\n",
    "x, k = sym.symbols('x k')\n",
    "\n",
    "p_x = 1/sqrt(2*pi)*exp(-x**2/2)\n",
    "\n",
    "for n in range(1,11):\n",
    "    i = sym.integrate(p_x*x**n, (x, -oo, oo) )\n",
    "    print('m_{:} = {:}'.format(n, i))"
   ]
  },
  {
   "cell_type": "code",
   "execution_count": 3,
   "metadata": {
    "scrolled": true
   },
   "outputs": [
    {
     "name": "stdout",
     "output_type": "stream",
     "text": [
      "m_1 = 0\n",
      "m_2 = 1\n",
      "m_3 = 0\n",
      "m_4 = 3\n",
      "m_5 = 0\n",
      "m_6 = 15\n",
      "m_7 = 0\n",
      "m_8 = 105\n",
      "m_9 = 0\n",
      "m_10 = 945\n"
     ]
    }
   ],
   "source": [
    "## Calculating the first 10 moments of N(0,1) using the characteristic function\n",
    "\n",
    "characteristic_func =  sym.exp(-k**2/2)\n",
    "\n",
    "for n in range(1,11):    \n",
    "    expr = (I)**n * sym.diff(characteristic_func, k,n)\n",
    "    print('m_{:} = {:}'.format(n,expr.subs(k, 0)))"
   ]
  },
  {
   "cell_type": "markdown",
   "metadata": {},
   "source": [
    "## Exercise 2:\n",
    "Generalize the addition law for $S = \\sum X_i\\cdot a_i$ where $X_i = N(\\mu_i, \\sigma_i)$, $a_i$ = weight"
   ]
  },
  {
   "cell_type": "markdown",
   "metadata": {},
   "source": [
    " Let $X_1, X_2, ..., X_N$ be independent random variable with normal distribution. We define a new random variable $X$:\n",
    " $$S = a_i\\cdot X_1+ a_2\\cdot X_2+...a_N\\cdot X_N$$\n",
    " \n",
    " The probability distribution of $S$ is the convolution of probability distributions $P_1(x_1),...,P_N(x_N)$:\n",
    " \n",
    " $$ P(s) = \\int P_1(x_1)\\cdot P_2(x_2)\\cdot ... \\cdot P_{N-1}(x_{N-1})\\cdot P_N(s-a_1x_1-...-a_{N-1}x_{N-1})ds$$\n",
    " \n",
    " The characteristic function of P(x) is equal to:\n",
    " $$\\hat{P}(x) =  \\int_{-\\infty}^\\infty  ds\\cdot  P_1(x_1)\\cdot P_2(x_2)\\cdot ... \\cdot P_{N-1}(x_{N-1})\\cdot P_N(s-a_ix_1-...-a_{N-1}x_{N-1})e^{iks} $$\n",
    "\n",
    "$$\\hat{P}(x) = e^{ik(a_1\\mu_1+a_2\\mu_2+...+a_N\\mu_N)} e^{-\\frac{1}{2}k^2(a_1^2\\sigma_1^2+...+a_N^2\\sigma_N^2)} = e^{ik\\mu}e^{-\\frac{1}{2}k^2\\sigma^2}$$\n",
    "\n",
    " Taking the inverse Fourier transform we retrieve a normal distribution:\n",
    " \n",
    " $X \\sim N(\\mu,\\sigma)$ where: $\\mu = \\sum_{i=1}^N a_i\\mu_i$  and  $\\sigma^2 = \\sum_{i=1}^N a_i^2\\sigma^2_i$.\n",
    " \n",
    " \n",
    " "
   ]
  },
  {
   "cell_type": "markdown",
   "metadata": {},
   "source": [
    "##  Exercise 3:\n",
    "\n",
    "NO IDEA"
   ]
  },
  {
   "cell_type": "code",
   "execution_count": 33,
   "metadata": {},
   "outputs": [],
   "source": [
    "M = np.random.normal(loc = 0, scale = 1, size = (100,100))\n",
    "X = 0.5 * (M + M.transpose())"
   ]
  },
  {
   "cell_type": "code",
   "execution_count": 34,
   "metadata": {},
   "outputs": [
    {
     "name": "stdout",
     "output_type": "stream",
     "text": [
      "CPU times: user 3 µs, sys: 0 ns, total: 3 µs\n",
      "Wall time: 6.44 µs\n"
     ]
    }
   ],
   "source": [
    "%time\n",
    "w,v = linalg.eig(X)"
   ]
  },
  {
   "cell_type": "code",
   "execution_count": 35,
   "metadata": {},
   "outputs": [
    {
     "data": {
      "text/plain": [
       "(array([1., 1., 5., 8., 4., 6., 3., 1., 2., 1.]),\n",
       " array([0. , 0.1, 0.2, 0.3, 0.4, 0.5, 0.6, 0.7, 0.8, 0.9, 1. ]),\n",
       " <a list of 10 Patch objects>)"
      ]
     },
     "execution_count": 35,
     "metadata": {},
     "output_type": "execute_result"
    },
    {
     "data": {
      "image/png": "[encoded data removed]",
      "text/plain": [
       "<Figure size 432x288 with 1 Axes>"
      ]
     },
     "metadata": {
      "needs_background": "light"
     },
     "output_type": "display_data"
    }
   ],
   "source": [
    "diagonal = np.diag(X)\n",
    "\n",
    "plt.hist(diagonal, bins = 10, range=(0,1))"
   ]
  },
  {
   "cell_type": "code",
   "execution_count": null,
   "metadata": {},
   "outputs": [],
   "source": []
  },
  {
   "cell_type": "code",
   "execution_count": 39,
   "metadata": {},
   "outputs": [
    {
     "data": {
      "text/plain": [
       "(array([ 2.,  9., 11., 14., 14., 14., 14., 12.,  8.,  2.]),\n",
       " array([-16. , -12.8,  -9.6,  -6.4,  -3.2,   0. ,   3.2,   6.4,   9.6,\n",
       "         12.8,  16. ]),\n",
       " <a list of 10 Patch objects>)"
      ]
     },
     "execution_count": 39,
     "metadata": {},
     "output_type": "execute_result"
    },
    {
     "data": {
      "image/png": "[encoded data removed]",
      "text/plain": [
       "<Figure size 432x288 with 1 Axes>"
      ]
     },
     "metadata": {
      "needs_background": "light"
     },
     "output_type": "display_data"
    }
   ],
   "source": [
    "plt.hist(w, bins = 10, range=(-16,16))"
   ]
  },
  {
   "cell_type": "code",
   "execution_count": 38,
   "metadata": {},
   "outputs": [
    {
     "data": {
      "text/plain": [
       "array([-14.0580716 , -13.39983495, -12.74947433, -12.41322488,\n",
       "       -12.1444035 , -11.48117766, -11.42619263, -10.66173381,\n",
       "       -10.38889468,  -9.93671811,  -9.89303911,  -9.46498898,\n",
       "        -9.0834467 ,  -8.77341217,  -8.69607757,  -8.11011553,\n",
       "        -7.7563497 ,  -7.59062166,  -7.44487779,  -7.28149506,\n",
       "        -6.68242173,  -6.54499354,  -6.38872662,  -6.22593038,\n",
       "        -5.99425913,  -5.49076599,  -5.38088003,  -5.11583418,\n",
       "        -5.04285104,  -4.63540512,  -4.40136375,  -4.2277613 ,\n",
       "        -3.71535455,  -3.54862973,  -3.36237376,  -3.26867656,\n",
       "        -2.89632972,  -2.79890982,  -2.55578669,  -2.18170049,\n",
       "        -2.09213012,  -1.98241065,  -1.68070947,  -1.31138534,\n",
       "        -1.14706904,  -1.12344749,  -0.76395846,  -0.67287   ,\n",
       "        -0.43839598,  -0.15605191,   0.11478834,   0.24881478,\n",
       "         0.42010326,   0.67385129,   1.04194562,   1.34893659,\n",
       "         1.44709399,   1.64991918,   1.94595144,   2.17496945,\n",
       "         2.28400166,   2.33474112,   2.6180666 ,   3.10475954,\n",
       "         3.33497217,   3.46583285,   3.70040928,   3.74712746,\n",
       "         4.07863776,   4.16563918,   4.30844536,   4.71987638,\n",
       "         5.13931395,   5.25287875,   5.55300807,   5.66252601,\n",
       "         5.9768778 ,   6.03088553,   6.43387472,   6.58604633,\n",
       "         6.90469474,   7.08925246,   7.23265044,   7.56515871,\n",
       "         7.96999914,   8.37441934,   8.45744413,   8.89014174,\n",
       "         8.98782724,   9.16776832,   9.64848324,  10.06424343,\n",
       "        10.95055369,  10.97156575,  11.14176196,  11.35258948,\n",
       "        11.99828277,  12.16327486,  13.43545963,  13.78648472])"
      ]
     },
     "execution_count": 38,
     "metadata": {},
     "output_type": "execute_result"
    }
   ],
   "source": [
    "w.sort()\n",
    "w"
   ]
  },
  {
   "cell_type": "code",
   "execution_count": null,
   "metadata": {},
   "outputs": [],
   "source": []
  }
 ],
 "metadata": {
  "kernelspec": {
   "display_name": "Python 3",
   "language": "python",
   "name": "python3"
  },
  "language_info": {
   "codemirror_mode": {
    "name": "ipython",
    "version": 3
   },
   "file_extension": ".py",
   "mimetype": "text/x-python",
   "name": "python",
   "nbconvert_exporter": "python",
   "pygments_lexer": "ipython3",
   "version": "3.7.4"
  }
 },
 "nbformat": 4,
 "nbformat_minor": 2
}
