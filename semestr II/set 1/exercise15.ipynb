{
 "cells": [
  {
   "cell_type": "markdown",
   "metadata": {},
   "source": [
    "## Exercise 15\n",
    "\n",
    "The files dat2a.txt and dat2b.txt contain sample data generated from some probability distributions.  Using  the  Kolmogorov-Smirnov test check if at $\\alpha= 0.05)$ significance level:\n",
    "\n",
    "* dat2a.txt come from the Gaussian N(5,2) distribution\n",
    "* dat2b.txtcome from the Gaussian N(5,2) distribution\n",
    "* dat2a.txt and dat2b.txt come from the same distribution.\n",
    "\n",
    "In each case compute the test statistic: $D_N$ and the p-value: $Q_{KS}$(u).\n",
    "\n",
    "##### NOTE: KS formula for the p-value is valid only assymptoticaly, i.e.  for $N\\rightarrow \\infty$.  For finite (and not too large) $N$ in a single distribution KS test you can use a correction:\n",
    "\n",
    "$$ u \\rightarrow u+\\frac{1}{6\\sqrt N} + \\frac{u-1}{4N}$$\n",
    "\n",
    "to get a result closer to some software (e.g. Wolfram Mathematica) automatic functions"
   ]
  },
  {
   "cell_type": "code",
   "execution_count": 1,
   "metadata": {},
   "outputs": [],
   "source": [
    "import pandas as pd\n",
    "import numpy as np\n",
    "import matplotlib.pyplot as plt\n",
    "\n",
    "from scipy.stats import norm, kstest, ks_2samp\n",
    "\n",
    "%matplotlib inline"
   ]
  },
  {
   "cell_type": "code",
   "execution_count": 2,
   "metadata": {},
   "outputs": [],
   "source": [
    "raw_data_2a = pd.read_csv('dat2a.csv', sep=' ', names = ['a'])\n",
    "raw_data_2b = pd.read_csv('dat2b.csv', sep=' ', names=['b'])\n",
    "\n",
    "data_a = np.array(raw_data_2a['a'])\n",
    "data_b = np.array(raw_data_2b['b'])\n",
    "\n",
    "data_a.sort()\n",
    "data_b.sort()\n",
    "\n",
    "n_a = len(data_a)\n",
    "n_b = len(data_b)\n",
    "\n",
    "alpha = 0.05  # significance level"
   ]
  },
  {
   "cell_type": "code",
   "execution_count": 3,
   "metadata": {},
   "outputs": [
    {
     "name": "stdout",
     "output_type": "stream",
     "text": [
      "data a: mean = 5.0524942218102264, std = 1.9776267892696542\n",
      "data b: mean = 5.144287068225364, std = 1.9741548225308172\n"
     ]
    }
   ],
   "source": [
    "print(\"data a: mean = {:}, std = {:}\".format(np.mean(data_a), np.std(data_a)))\n",
    "print(\"data b: mean = {:}, std = {:}\".format(np.mean(data_b), np.std(data_b)))"
   ]
  },
  {
   "cell_type": "code",
   "execution_count": 4,
   "metadata": {},
   "outputs": [
    {
     "data": {
      "image/png": "[encoded data removed]",
      "text/plain": [
       "<Figure size 432x288 with 1 Axes>"
      ]
     },
     "metadata": {
      "needs_background": "light"
     },
     "output_type": "display_data"
    }
   ],
   "source": [
    "dt = 0.01\n",
    "t = np.arange(0, 10, dt)\n",
    "gauss = norm.pdf(t,5,2)\n",
    "\n",
    "\n",
    "fig, ax = plt.subplots()\n",
    "\n",
    "ax.hist(data_a, color = 'pink')\n",
    "ax.plot(t,gauss*n_a, color = 'purple')\n",
    "\n",
    "plt.show()"
   ]
  },
  {
   "cell_type": "code",
   "execution_count": 5,
   "metadata": {},
   "outputs": [
    {
     "data": {
      "image/png": "[encoded data removed]",
      "text/plain": [
       "<Figure size 432x288 with 1 Axes>"
      ]
     },
     "metadata": {
      "needs_background": "light"
     },
     "output_type": "display_data"
    }
   ],
   "source": [
    "dt = 0.01\n",
    "t = np.arange(0, 10, dt)\n",
    "gauss = norm.pdf(t,5,2)\n",
    "\n",
    "\n",
    "fig, ax = plt.subplots()\n",
    "\n",
    "ax.hist(data_b, color = 'pink')\n",
    "ax.plot(t,gauss*n_a, color = 'purple')\n",
    "\n",
    "plt.show()"
   ]
  },
  {
   "cell_type": "markdown",
   "metadata": {},
   "source": [
    "## Crafting:"
   ]
  },
  {
   "cell_type": "code",
   "execution_count": 6,
   "metadata": {},
   "outputs": [],
   "source": [
    "def komogorov_smirkov_normal(data, mu, sigma):\n",
    "    \n",
    "    n=len(data)\n",
    "    target = norm(mu, sigma)      # Normal mean 5, stddev 2\n",
    "    cdfs = target.cdf(data)\n",
    "\n",
    "    ecdfs = np.arange(n+1, dtype=float)/n\n",
    "    gaps = np.column_stack([cdfs - ecdfs[:n], ecdfs[1:] - cdfs])\n",
    "    D_N = np.max(gaps)\n",
    "    K_N = np.sqrt(n)*D_N\n",
    "\n",
    "    print('Test statistics D_N = {:2f}, D_N*sqrt(n) = {:2f}'.format(D_N, K_N))    "
   ]
  },
  {
   "cell_type": "code",
   "execution_count": 7,
   "metadata": {},
   "outputs": [
    {
     "name": "stdout",
     "output_type": "stream",
     "text": [
      "Test statistics D_N = 0.029311, D_N*sqrt(n) = 0.414526\n"
     ]
    }
   ],
   "source": [
    "komogorov_smirkov_normal(data_a, 5,2)"
   ]
  },
  {
   "cell_type": "code",
   "execution_count": 8,
   "metadata": {},
   "outputs": [
    {
     "name": "stdout",
     "output_type": "stream",
     "text": [
      "Test statistics D_N = 0.105858, D_N*sqrt(n) = 1.497055\n"
     ]
    }
   ],
   "source": [
    "komogorov_smirkov_normal(data_b, 5,2)"
   ]
  },
  {
   "cell_type": "markdown",
   "metadata": {},
   "source": [
    "## funkcja pythona"
   ]
  },
  {
   "cell_type": "code",
   "execution_count": 9,
   "metadata": {},
   "outputs": [
    {
     "name": "stdout",
     "output_type": "stream",
     "text": [
      "data a: test statistic: D_N = 0.029311419680829287,  p-value = 0.9953928141395783\n"
     ]
    }
   ],
   "source": [
    "D_N, p_value = kstest(data_a, 'norm', args=(5,2))\n",
    "print(\"data a: test statistic: D_N = {:},  p-value = {:}\".format(D_N, p_value) )"
   ]
  },
  {
   "cell_type": "code",
   "execution_count": 10,
   "metadata": {},
   "outputs": [
    {
     "name": "stdout",
     "output_type": "stream",
     "text": [
      "data b: test statistic: D_N = 0.10585777352235481,  p-value = 0.020937828167386912\n"
     ]
    }
   ],
   "source": [
    "D_N, p_value = kstest(data_b, 'norm', args=(5,2))\n",
    "print(\"data b: test statistic: D_N = {:},  p-value = {:}\".format(D_N, p_value) )"
   ]
  },
  {
   "cell_type": "code",
   "execution_count": 11,
   "metadata": {},
   "outputs": [
    {
     "name": "stdout",
     "output_type": "stream",
     "text": [
      "Test statistic: D_N = 0.115,  p-value = 0.1420746514551761\n"
     ]
    }
   ],
   "source": [
    "D_N, p_value = ks_2samp(data_a, data_b)\n",
    "\n",
    "print(\"Test statistic: D_N = {:},  p-value = {:}\".format(D_N, p_value) )"
   ]
  },
  {
   "cell_type": "markdown",
   "metadata": {},
   "source": [
    "## Testing the same for modified data:\n"
   ]
  },
  {
   "cell_type": "code",
   "execution_count": 12,
   "metadata": {},
   "outputs": [],
   "source": [
    "n = len(data_a)\n",
    "\n",
    "modified_a = data_a + 1/(6*np.sqrt(n)) + (data_a-1)/(4*n) \n",
    "modified_b = data_b + 1/(6*np.sqrt(n)) + (data_b-1)/(4*n) "
   ]
  },
  {
   "cell_type": "code",
   "execution_count": 13,
   "metadata": {},
   "outputs": [
    {
     "name": "stdout",
     "output_type": "stream",
     "text": [
      "data a: test statistic: D_N = 0.03156499520759892,  p-value = 0.9885024417628892\n"
     ]
    }
   ],
   "source": [
    "D_N, p_value = kstest(modified_a, 'norm', args=(5,2))\n",
    "\n",
    "print(\"data a: test statistic: D_N = {:},  p-value = {:}\".format(D_N, p_value) )"
   ]
  },
  {
   "cell_type": "code",
   "execution_count": 14,
   "metadata": {},
   "outputs": [
    {
     "name": "stdout",
     "output_type": "stream",
     "text": [
      "data b: test statistic: D_N = 0.10247590280256713,  p-value = 0.027846615284722414\n"
     ]
    }
   ],
   "source": [
    "D_N, p_value = kstest(modified_b, 'norm', args=(5,2))\n",
    "print(\"data b: test statistic: D_N = {:},  p-value = {:}\".format(D_N, p_value) )"
   ]
  },
  {
   "cell_type": "code",
   "execution_count": 15,
   "metadata": {},
   "outputs": [
    {
     "name": "stdout",
     "output_type": "stream",
     "text": [
      "Test statistic: D_N = 0.115,  p-value = 0.1420746514551761\n"
     ]
    }
   ],
   "source": [
    "D_N, p_value = ks_2samp(modified_a, modified_b)\n",
    "\n",
    "print(\"Test statistic: D_N = {:},  p-value = {:}\".format(D_N, p_value) )"
   ]
  },
  {
   "cell_type": "code",
   "execution_count": null,
   "metadata": {},
   "outputs": [],
   "source": []
  }
 ],
 "metadata": {
  "kernelspec": {
   "display_name": "Python 3",
   "language": "python",
   "name": "python3"
  },
  "language_info": {
   "codemirror_mode": {
    "name": "ipython",
    "version": 3
   },
   "file_extension": ".py",
   "mimetype": "text/x-python",
   "name": "python",
   "nbconvert_exporter": "python",
   "pygments_lexer": "ipython3",
   "version": "3.7.4"
  }
 },
 "nbformat": 4,
 "nbformat_minor": 2
}
