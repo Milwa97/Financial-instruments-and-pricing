{
 "cells": [
  {
   "cell_type": "markdown",
   "metadata": {},
   "source": [
    "# EXERCISE 5\n",
    "\n",
    "Using STATIC ARBITRAGE arguments find expressions (BID and ASK)for the “fair” price X of aFX forward, i.e. one wants to BUY/ SELLone currency vs other currency @ FX rate X with delivery in T. Assume that the current (direct) FX rate: $S^{USDPLN}$ and interest rates (yields) in both currencies: $y_{PLN}(T)$ and $y_{USD}(T)$ are known.\n",
    "\n",
    "* a) Find general formula for $X_{BID}$ and $X_{ASK}$\n",
    "\n",
    "* b) Calculate $X_{BID}$ and  $X_{ASK}$ if $T =  3M$ and: \n",
    "\n",
    "$S^{USDPLN}$:  3.8010–3.8020, \n",
    "$3M_{PLNDEPOS}$: 1.72% -1.75%, \n",
    "$3M_{_USDDEPOS}$.: 2.78% -2.80%\n",
    "\n",
    "\n",
    "##### Note: Figure out how “a bank” can createthe FX forward from the current spot FX rate, and combination of a loan anda deposit in those currencies?"
   ]
  },
  {
   "cell_type": "markdown",
   "metadata": {},
   "source": [
    "$X_{ASK}$ Pricing:\n",
    "\n",
    "I am starting form the point, in which, as a bank, I own 0 PLN and 0 USD\n",
    "$S^{USD/PLN}_{ASK} = \\left[ \\frac{PLN}{USD}\\right]$\n",
    "\n",
    "⋅⋅* Prcedure (now): \n",
    "1. First I need to borrow P PLN P at $y^{PLN}_{ASK}$\n",
    "2. I buy $K(0) = \\frac{P}{S^{USD/PLN}_{ASK}} $ USD at the current FX rate\n",
    "3. I invest my USD dollars for three months, at $y^{USD}_{BID}$ interest rate\n",
    "\n",
    "\n",
    "⋅⋅* Prcedure (in 3 months): \n",
    "1. I have now $K(T) = \\left( \\frac{P}{S^{USD/PLN}_{ASK} } \\right)\\cdot (1+y^{USD}_{BID})^T$\n",
    "2. I get form the client $K(T) = \\left( \\frac{P}{S^{USD/PLN}_{ASK} } \\right)\\cdot (1+y^{USD}_{BID})^T$ $\\cdot X_{ASK}$ [PLN]\n",
    "3. I need to pay off the loan (in PLN): $P\\cdot(1+y^{PLN}_{ASK})^T$\n",
    "\n",
    "\n",
    "If we want to met the static arbitrage conditions, $X_{ASK}$ is determinated, so that the money paid by the client is equal to the money we need to pay off the loan:\n",
    "\n",
    "$$P\\cdot(1+y^{PLN}_{ASK})^T \\cdot X_{ASK} = \\left( \\frac{P}{S^{USD/PLN}_{ASK} } \\right)\\cdot (1+y^{USD}_{BID})^T$$\n"
   ]
  },
  {
   "cell_type": "markdown",
   "metadata": {},
   "source": [
    "$$ X_{ASK} =S^{USD/PLN}_{ASK}\\cdot \\left( \\frac{1+y^{PLN}_{ASK}}{1+y^{USD}_{BID}}  \\right)^T$$\n"
   ]
  },
  {
   "cell_type": "code",
   "execution_count": 1,
   "metadata": {},
   "outputs": [
    {
     "name": "stdout",
     "output_type": "stream",
     "text": [
      "X_ASK = 3.792438647385703 = S^PLN/USD \n"
     ]
    }
   ],
   "source": [
    "S_ASK = 3.8020\n",
    "T = 3/12\n",
    "y_PLN_ASK = 1.75/100\n",
    "y_USD_BID = 2.78/100\n",
    "\n",
    "X_ASK = (S_ASK) *( 1+y_PLN_ASK)**T / (1+y_USD_BID)**T\n",
    "\n",
    "print(\"X_ASK = {:} = S^PLN/USD \".format(X_ASK) )"
   ]
  },
  {
   "cell_type": "markdown",
   "metadata": {},
   "source": [
    "$X_{BID}$ Pricing:\n",
    "\n",
    "I am starting form the point, in which, as a bank, I own 0 PLN and 0 USD\n",
    "\n",
    "⋅⋅* Prcedure (now): \n",
    "1. First I need to borrow USD, K at $y^{USD}_{ASK}$\n",
    "2. I buy $P(0) = K\\cdot S^{USD/PLN}_BID$ PLN at the current FX rate $S^{USD/PLN}_BID$\n",
    "3. I invest my PLN for three months, at $y^{PLN}_{BID}$ interest rate\n",
    "\n",
    "\n",
    "⋅⋅* Prcedure (in 3 months): \n",
    "1. I have now $P(T) = \\left( K\\cdot S^{USD/PLN}_BID \\right)\\cdot (1+y^{PLN}_{BID})^T$\n",
    "2. I get form the client $P(T) = \\left( K\\cdot S^{USD/PLN}_BID \\right)\\cdot (1+y^{PLN}_{BID})^T \\cdot X_{BID}$\n",
    "\n",
    "3. I need to pay off the loan (in USD): $K\\cdot(1+y^{USD}_{ASK})^T$\n",
    "\n",
    "\n",
    "If we want to met the static arbitrage conditions, $X_{BID}$ is determinated, so that the money paid by the client is equal to the money we need to pay off the loan:\n",
    "\n",
    "$$\\left(  \\frac{1}{S^{USD/PLN}_{BID}} \\right)\\cdot (1+y^{PLN}_{BID})^T \\cdot X_{BID}= (1+y^{USD}_{ASK})^T$$\n",
    "DO POPRAWY\n"
   ]
  },
  {
   "cell_type": "markdown",
   "metadata": {},
   "source": [
    "$$ X_{BID}= S^{USD/PLN}_{BID}\\cdot \\left( \\frac{1+y^{USD}_{ASK})}{1+y^{PLN}_{BID}} \\right)^T$$\n",
    "\n"
   ]
  },
  {
   "cell_type": "code",
   "execution_count": 2,
   "metadata": {},
   "outputs": [
    {
     "name": "stdout",
     "output_type": "stream",
     "text": [
      "X_BID = 3.7909772554183094 S^USD/PLN \n"
     ]
    }
   ],
   "source": [
    "## X_BID = cena kupna US dollas:  X_BID = 3.79097\n",
    "## X_ASK = cena sprzedaży US dollars:  X_ASK = 3.79244\n",
    "\n",
    "y_USD_ASK = 2.80/100\n",
    "y_PLN_BID = 1.72 / 100\n",
    "S_BID = 3.8010\n",
    "\n",
    "X_BID = S_BID *(1+y_PLN_BID)**T / (1+y_USD_ASK)**T\n",
    "\n",
    "print(\"X_BID = {:} S^USD/PLN \".format(X_BID) )"
   ]
  },
  {
   "cell_type": "code",
   "execution_count": null,
   "metadata": {},
   "outputs": [],
   "source": []
  }
 ],
 "metadata": {
  "kernelspec": {
   "display_name": "Python 3",
   "language": "python",
   "name": "python3"
  },
  "language_info": {
   "codemirror_mode": {
    "name": "ipython",
    "version": 3
   },
   "file_extension": ".py",
   "mimetype": "text/x-python",
   "name": "python",
   "nbconvert_exporter": "python",
   "pygments_lexer": "ipython3",
   "version": "3.7.4"
  }
 },
 "nbformat": 4,
 "nbformat_minor": 2
}
