{
 "cells": [
  {
   "cell_type": "markdown",
   "metadata": {},
   "source": [
    "$$f = \\frac{1}{(1+R)^N}\\sum_{j=0}^N  \\frac{N!}{j!(N-j)!}\\cdot g^j \\cdot (1-g)^{N-j}\\cdot f\\left[S(N)\\right]$$"
   ]
  },
  {
   "cell_type": "markdown",
   "metadata": {},
   "source": [
    "### Numeric data:"
   ]
  },
  {
   "cell_type": "code",
   "execution_count": 2,
   "metadata": {},
   "outputs": [],
   "source": [
    "R = 0.025\n",
    "N = 12\n",
    "u = 1.05\n",
    "d = 1/u\n",
    "S = 1.0\n",
    "X = 1.0\n",
    "g = (1+R-d)/(u-d)"
   ]
  },
  {
   "cell_type": "code",
   "execution_count": 3,
   "metadata": {},
   "outputs": [],
   "source": [
    "from math import factorial\n",
    "\n",
    "def get_coeff_j(N,j,g):   \n",
    "    return factorial(N)/(factorial(j)*factorial(N-j)) * g**j * (1-g)**(N-j)"
   ]
  },
  {
   "cell_type": "markdown",
   "metadata": {},
   "source": [
    "### European binary:\n",
    "$$ f\\left[S(N)\\right] = \\Theta\\left[ S(N)_j-X\\right]$$\n",
    "\n"
   ]
  },
  {
   "cell_type": "code",
   "execution_count": 4,
   "metadata": {},
   "outputs": [],
   "source": [
    "def European_binary(X,S,u,d,j):\n",
    "    \n",
    "    S_N = S*u**j * d**(N-j)\n",
    "   \n",
    "    if(S_N>X):\n",
    "        return 1\n",
    "    return 0"
   ]
  },
  {
   "cell_type": "code",
   "execution_count": 5,
   "metadata": {},
   "outputs": [
    {
     "name": "stdout",
     "output_type": "stream",
     "text": [
      "\n",
      "j =  0 coeff =  7.959124683795387e-08 func_val =  0\n",
      "\n",
      "j =  1 coeff =  2.7743234612086616e-06 func_val =  0\n",
      "\n",
      "j =  2 coeff =  4.432312005883336e-05 func_val =  0\n",
      "\n",
      "j =  3 coeff =  0.000429160368823622 func_val =  0\n",
      "\n",
      "j =  4 coeff =  0.0028048695533829425 func_val =  0\n",
      "\n",
      "j =  5 coeff =  0.013035965162389218 func_val =  0\n",
      "\n",
      "j =  6 coeff =  0.044177437494763196 func_val =  0\n",
      "\n",
      "j =  7 coeff =  0.10999280355838932 func_val =  1\n",
      "\n",
      "j =  8 coeff =  0.1996893159839795 func_val =  1\n",
      "\n",
      "j =  9 coeff =  0.25779996349254347 func_val =  1\n",
      "\n",
      "j =  10 coeff =  0.22465425390064367 func_val =  1\n",
      "\n",
      "j =  11 coeff =  0.11864856699514445 func_val =  1\n",
      "\n",
      "j =  12 coeff =  0.02872048645517369 func_val =  1\n",
      "European binary option: V = 0.6985747620532069\n"
     ]
    }
   ],
   "source": [
    "V=0\n",
    "for j in range(N+1):\n",
    "    coeff =  get_coeff_j(N,j,g)\n",
    "    func = European_binary(X,S,u,d,j)\n",
    "    print(\"\\nj = \",j, \"coeff = \", coeff, \"func_val = \", func)\n",
    "    V+= coeff*European_binary(X,S,u,d,j)\n",
    "\n",
    "V *= 1/(1+R)**N\n",
    "print(\"European binary option: V = {:}\".format(V))"
   ]
  },
  {
   "cell_type": "markdown",
   "metadata": {},
   "source": [
    "### European call option:\n",
    "$$ f\\left[S(N)\\right] = max(S(N)-X, 0)$$\n"
   ]
  },
  {
   "cell_type": "code",
   "execution_count": 9,
   "metadata": {},
   "outputs": [],
   "source": [
    "def European_call_option(X,S,u,d,j):\n",
    "    return max(0, S*u**j*d**(N-j)-X)"
   ]
  },
  {
   "cell_type": "code",
   "execution_count": 11,
   "metadata": {},
   "outputs": [
    {
     "name": "stdout",
     "output_type": "stream",
     "text": [
      "\n",
      "j =  0 coeff =  7.959124683795387e-08 func_val =  0\n",
      "\n",
      "j =  1 coeff =  2.7743234612086616e-06 func_val =  0\n",
      "\n",
      "j =  2 coeff =  4.432312005883336e-05 func_val =  0\n",
      "\n",
      "j =  3 coeff =  0.000429160368823622 func_val =  0\n",
      "\n",
      "j =  4 coeff =  0.0028048695533829425 func_val =  0\n",
      "\n",
      "j =  5 coeff =  0.013035965162389218 func_val =  0\n",
      "\n",
      "j =  6 coeff =  0.044177437494763196 func_val =  0\n",
      "\n",
      "j =  7 coeff =  0.10999280355838932 func_val =  0.10250000000000004\n",
      "\n",
      "j =  8 coeff =  0.1996893159839795 func_val =  0.21550625000000023\n",
      "\n",
      "j =  9 coeff =  0.25779996349254347 func_val =  0.3400956406250002\n",
      "\n",
      "j =  10 coeff =  0.22465425390064367 func_val =  0.477455443789063\n",
      "\n",
      "j =  11 coeff =  0.11864856699514445 func_val =  0.628894626777442\n",
      "\n",
      "j =  12 coeff =  0.02872048645517369 func_val =  0.7958563260221301\n",
      "\n",
      "\n",
      "European call option: V = 0.2578074998385247\n"
     ]
    }
   ],
   "source": [
    "V=0\n",
    "\n",
    "for j in range(N+1):\n",
    "    coeff =  get_coeff_j(N,j,g)\n",
    "    func = European_call_option(X,S,u,d,j)\n",
    "    print(\"\\nj = \",j, \"coeff = \", coeff, \"func_val = \", func)\n",
    "    V+= coeff*European_call_option(X,S,u,d,j)\n",
    "\n",
    "V *= 1/(1+R)**N\n",
    "print(\"\\n\\nEuropean call option: V = {:}\".format(V))"
   ]
  },
  {
   "cell_type": "markdown",
   "metadata": {},
   "source": [
    "### European put option:\n",
    "$$ f\\left[S(N)\\right] = max(X -S(N), 0)$$\n"
   ]
  },
  {
   "cell_type": "code",
   "execution_count": 7,
   "metadata": {},
   "outputs": [],
   "source": [
    "def European_put_option(X,S,u,d,j):\n",
    "    return max(0, X - S*u**j*d**(N-j))"
   ]
  },
  {
   "cell_type": "code",
   "execution_count": 8,
   "metadata": {},
   "outputs": [
    {
     "name": "stdout",
     "output_type": "stream",
     "text": [
      "\n",
      "j =  0 coeff =  7.959124683795387e-08 func_val =  0.44316258182244084\n",
      "\n",
      "j =  1 coeff =  2.7743234612086616e-06 func_val =  0.3860867464592409\n",
      "\n",
      "j =  2 coeff =  4.432312005883336e-05 func_val =  0.3231606379713132\n",
      "\n",
      "j =  3 coeff =  0.000429160368823622 func_val =  0.2537846033633726\n",
      "\n",
      "j =  4 coeff =  0.0028048695533829425 func_val =  0.17729752520811826\n",
      "\n",
      "j =  5 coeff =  0.013035965162389218 func_val =  0.09297052154195029\n",
      "\n",
      "j =  6 coeff =  0.044177437494763196 func_val =  0\n",
      "\n",
      "j =  7 coeff =  0.10999280355838932 func_val =  0\n",
      "\n",
      "j =  8 coeff =  0.1996893159839795 func_val =  0\n",
      "\n",
      "j =  9 coeff =  0.25779996349254347 func_val =  0\n",
      "\n",
      "j =  10 coeff =  0.22465425390064367 func_val =  0\n",
      "\n",
      "j =  11 coeff =  0.11864856699514445 func_val =  0\n",
      "\n",
      "j =  12 coeff =  0.02872048645517369 func_val =  0\n",
      "European_put_option: V = 0.001363384883833412\n"
     ]
    }
   ],
   "source": [
    "V=0\n",
    "\n",
    "for j in range(N+1):\n",
    "    coeff =  get_coeff_j(N,j,g)\n",
    "    func = European_put_option(X,S,u,d,j)\n",
    "    print(\"\\nj = \",j, \"coeff = \", coeff, \"func_val = \", func)\n",
    "    V+= coeff*European_put_option(X,S,u,d,j)\n",
    "\n",
    "V *= 1/(1+R)**N\n",
    "print(\"European_put_option: V = {:}\".format(V))"
   ]
  }
 ],
 "metadata": {
  "kernelspec": {
   "display_name": "Python 3",
   "language": "python",
   "name": "python3"
  },
  "language_info": {
   "codemirror_mode": {
    "name": "ipython",
    "version": 3
   },
   "file_extension": ".py",
   "mimetype": "text/x-python",
   "name": "python",
   "nbconvert_exporter": "python",
   "pygments_lexer": "ipython3",
   "version": "3.7.4"
  }
 },
 "nbformat": 4,
 "nbformat_minor": 2
}
